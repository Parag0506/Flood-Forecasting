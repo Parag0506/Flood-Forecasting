{
  "nbformat": 4,
  "nbformat_minor": 0,
  "metadata": {
    "colab": {
      "name": "Flood_forecast.ipynb",
      "provenance": [],
      "collapsed_sections": [],
      "authorship_tag": "ABX9TyOb6nfJx98Fo6rBXzpROqh0",
      "include_colab_link": true
    },
    "kernelspec": {
      "name": "python3",
      "display_name": "Python 3"
    },
    "accelerator": "GPU"
  },
  "cells": [
    {
      "cell_type": "markdown",
      "metadata": {
        "id": "view-in-github",
        "colab_type": "text"
      },
      "source": [
        "<a href=\"https://colab.research.google.com/github/Parag0506/Flood-Forecasting/blob/main/Flood_forecast.ipynb\" target=\"_parent\"><img src=\"https://colab.research.google.com/assets/colab-badge.svg\" alt=\"Open In Colab\"/></a>"
      ]
    },
    {
      "cell_type": "code",
      "metadata": {
        "id": "a7u9OWBk-FW-"
      },
      "source": [
        "#This Machine Learning Model uses 5 Machine Learning Algorithms namely KNN Classification, Logistic Regression[LR], Support \n",
        "# Vector[SVM], Decision Tree[DT] and Random Forest[RF] to get the best possible model to predict the floods using Kerela Rainfall Data."
      ],
      "execution_count": 2,
      "outputs": []
    },
    {
      "cell_type": "code",
      "metadata": {
        "colab": {
          "base_uri": "https://localhost:8080/"
        },
        "id": "6En3-o5m-uNs",
        "outputId": "311e9091-46bf-4051-f747-79b88eb4051b"
      },
      "source": [
        "cd Flood-Prediction-Model"
      ],
      "execution_count": 7,
      "outputs": [
        {
          "output_type": "stream",
          "text": [
            "/content/Flood-Prediction-Model\n"
          ],
          "name": "stdout"
        }
      ]
    },
    {
      "cell_type": "code",
      "metadata": {
        "id": "fSzH61ht-xF0"
      },
      "source": [
        "# Ignoring Warnings.\n",
        "import warnings\n",
        "warnings.filterwarnings('ignore')"
      ],
      "execution_count": 8,
      "outputs": []
    },
    {
      "cell_type": "code",
      "metadata": {
        "id": "Z5K85fJV-2_I"
      },
      "source": [
        "import os"
      ],
      "execution_count": 10,
      "outputs": []
    },
    {
      "cell_type": "code",
      "metadata": {
        "colab": {
          "base_uri": "https://localhost:8080/"
        },
        "id": "SVedFm2u-7p8",
        "outputId": "ab798618-e5b0-457b-8350-e92ce8bad993"
      },
      "source": [
        "import numpy as np # linear algebra\n",
        "import pandas as pd # data processing, CSV file I/O (e.g. pd.read_csv)\n",
        "data = pd.read_csv('kerala.csv')\n",
        "print(data)"
      ],
      "execution_count": 11,
      "outputs": [
        {
          "output_type": "stream",
          "text": [
            "    SUBDIVISION  YEAR   JAN   FEB  ...    NOV    DEC   ANNUAL RAINFALL  FLOODS\n",
            "0        KERALA  1901  28.7  44.7  ...  350.8   48.4            3248.6     YES\n",
            "1        KERALA  1902   6.7   2.6  ...  158.3  121.5            3326.6     YES\n",
            "2        KERALA  1903   3.2  18.6  ...  157.0   59.0            3271.2     YES\n",
            "3        KERALA  1904  23.7   3.0  ...   33.9    3.3            3129.7     YES\n",
            "4        KERALA  1905   1.2  22.3  ...   74.4    0.2            2741.6      NO\n",
            "..          ...   ...   ...   ...  ...    ...    ...               ...     ...\n",
            "113      KERALA  2014   4.6  10.3  ...   99.5   47.2            3046.4     YES\n",
            "114      KERALA  2015   3.1   5.8  ...  223.6   79.4            2600.6      NO\n",
            "115      KERALA  2016   2.4   3.8  ...  125.4   23.6            2176.6      NO\n",
            "116     KERALA   2017   1.9   6.8  ...   92.5   38.1            2117.1      NO\n",
            "117      KERALA  2018  29.1  52.1  ...  125.4   65.1            4473.0     YES\n",
            "\n",
            "[118 rows x 16 columns]\n"
          ],
          "name": "stdout"
        }
      ]
    },
    {
      "cell_type": "code",
      "metadata": {
        "colab": {
          "base_uri": "https://localhost:8080/",
          "height": 195
        },
        "id": "g5spGN0W_HLk",
        "outputId": "0d4f18ca-0285-4ddb-dd2d-a5324cd9b0c0"
      },
      "source": [
        "data.head()\n"
      ],
      "execution_count": 12,
      "outputs": [
        {
          "output_type": "execute_result",
          "data": {
            "text/html": [
              "<div>\n",
              "<style scoped>\n",
              "    .dataframe tbody tr th:only-of-type {\n",
              "        vertical-align: middle;\n",
              "    }\n",
              "\n",
              "    .dataframe tbody tr th {\n",
              "        vertical-align: top;\n",
              "    }\n",
              "\n",
              "    .dataframe thead th {\n",
              "        text-align: right;\n",
              "    }\n",
              "</style>\n",
              "<table border=\"1\" class=\"dataframe\">\n",
              "  <thead>\n",
              "    <tr style=\"text-align: right;\">\n",
              "      <th></th>\n",
              "      <th>SUBDIVISION</th>\n",
              "      <th>YEAR</th>\n",
              "      <th>JAN</th>\n",
              "      <th>FEB</th>\n",
              "      <th>MAR</th>\n",
              "      <th>APR</th>\n",
              "      <th>MAY</th>\n",
              "      <th>JUN</th>\n",
              "      <th>JUL</th>\n",
              "      <th>AUG</th>\n",
              "      <th>SEP</th>\n",
              "      <th>OCT</th>\n",
              "      <th>NOV</th>\n",
              "      <th>DEC</th>\n",
              "      <th>ANNUAL RAINFALL</th>\n",
              "      <th>FLOODS</th>\n",
              "    </tr>\n",
              "  </thead>\n",
              "  <tbody>\n",
              "    <tr>\n",
              "      <th>0</th>\n",
              "      <td>KERALA</td>\n",
              "      <td>1901</td>\n",
              "      <td>28.7</td>\n",
              "      <td>44.7</td>\n",
              "      <td>51.6</td>\n",
              "      <td>160.0</td>\n",
              "      <td>174.7</td>\n",
              "      <td>824.6</td>\n",
              "      <td>743.0</td>\n",
              "      <td>357.5</td>\n",
              "      <td>197.7</td>\n",
              "      <td>266.9</td>\n",
              "      <td>350.8</td>\n",
              "      <td>48.4</td>\n",
              "      <td>3248.6</td>\n",
              "      <td>YES</td>\n",
              "    </tr>\n",
              "    <tr>\n",
              "      <th>1</th>\n",
              "      <td>KERALA</td>\n",
              "      <td>1902</td>\n",
              "      <td>6.7</td>\n",
              "      <td>2.6</td>\n",
              "      <td>57.3</td>\n",
              "      <td>83.9</td>\n",
              "      <td>134.5</td>\n",
              "      <td>390.9</td>\n",
              "      <td>1205.0</td>\n",
              "      <td>315.8</td>\n",
              "      <td>491.6</td>\n",
              "      <td>358.4</td>\n",
              "      <td>158.3</td>\n",
              "      <td>121.5</td>\n",
              "      <td>3326.6</td>\n",
              "      <td>YES</td>\n",
              "    </tr>\n",
              "    <tr>\n",
              "      <th>2</th>\n",
              "      <td>KERALA</td>\n",
              "      <td>1903</td>\n",
              "      <td>3.2</td>\n",
              "      <td>18.6</td>\n",
              "      <td>3.1</td>\n",
              "      <td>83.6</td>\n",
              "      <td>249.7</td>\n",
              "      <td>558.6</td>\n",
              "      <td>1022.5</td>\n",
              "      <td>420.2</td>\n",
              "      <td>341.8</td>\n",
              "      <td>354.1</td>\n",
              "      <td>157.0</td>\n",
              "      <td>59.0</td>\n",
              "      <td>3271.2</td>\n",
              "      <td>YES</td>\n",
              "    </tr>\n",
              "    <tr>\n",
              "      <th>3</th>\n",
              "      <td>KERALA</td>\n",
              "      <td>1904</td>\n",
              "      <td>23.7</td>\n",
              "      <td>3.0</td>\n",
              "      <td>32.2</td>\n",
              "      <td>71.5</td>\n",
              "      <td>235.7</td>\n",
              "      <td>1098.2</td>\n",
              "      <td>725.5</td>\n",
              "      <td>351.8</td>\n",
              "      <td>222.7</td>\n",
              "      <td>328.1</td>\n",
              "      <td>33.9</td>\n",
              "      <td>3.3</td>\n",
              "      <td>3129.7</td>\n",
              "      <td>YES</td>\n",
              "    </tr>\n",
              "    <tr>\n",
              "      <th>4</th>\n",
              "      <td>KERALA</td>\n",
              "      <td>1905</td>\n",
              "      <td>1.2</td>\n",
              "      <td>22.3</td>\n",
              "      <td>9.4</td>\n",
              "      <td>105.9</td>\n",
              "      <td>263.3</td>\n",
              "      <td>850.2</td>\n",
              "      <td>520.5</td>\n",
              "      <td>293.6</td>\n",
              "      <td>217.2</td>\n",
              "      <td>383.5</td>\n",
              "      <td>74.4</td>\n",
              "      <td>0.2</td>\n",
              "      <td>2741.6</td>\n",
              "      <td>NO</td>\n",
              "    </tr>\n",
              "  </tbody>\n",
              "</table>\n",
              "</div>"
            ],
            "text/plain": [
              "  SUBDIVISION  YEAR   JAN   FEB  ...    NOV    DEC   ANNUAL RAINFALL  FLOODS\n",
              "0      KERALA  1901  28.7  44.7  ...  350.8   48.4            3248.6     YES\n",
              "1      KERALA  1902   6.7   2.6  ...  158.3  121.5            3326.6     YES\n",
              "2      KERALA  1903   3.2  18.6  ...  157.0   59.0            3271.2     YES\n",
              "3      KERALA  1904  23.7   3.0  ...   33.9    3.3            3129.7     YES\n",
              "4      KERALA  1905   1.2  22.3  ...   74.4    0.2            2741.6      NO\n",
              "\n",
              "[5 rows x 16 columns]"
            ]
          },
          "metadata": {
            "tags": []
          },
          "execution_count": 12
        }
      ]
    },
    {
      "cell_type": "code",
      "metadata": {
        "colab": {
          "base_uri": "https://localhost:8080/",
          "height": 195
        },
        "id": "_6XhoVf-_Kzo",
        "outputId": "1c5f660f-65a9-4903-b596-60257d5ee738"
      },
      "source": [
        "data.tail()\n"
      ],
      "execution_count": 13,
      "outputs": [
        {
          "output_type": "execute_result",
          "data": {
            "text/html": [
              "<div>\n",
              "<style scoped>\n",
              "    .dataframe tbody tr th:only-of-type {\n",
              "        vertical-align: middle;\n",
              "    }\n",
              "\n",
              "    .dataframe tbody tr th {\n",
              "        vertical-align: top;\n",
              "    }\n",
              "\n",
              "    .dataframe thead th {\n",
              "        text-align: right;\n",
              "    }\n",
              "</style>\n",
              "<table border=\"1\" class=\"dataframe\">\n",
              "  <thead>\n",
              "    <tr style=\"text-align: right;\">\n",
              "      <th></th>\n",
              "      <th>SUBDIVISION</th>\n",
              "      <th>YEAR</th>\n",
              "      <th>JAN</th>\n",
              "      <th>FEB</th>\n",
              "      <th>MAR</th>\n",
              "      <th>APR</th>\n",
              "      <th>MAY</th>\n",
              "      <th>JUN</th>\n",
              "      <th>JUL</th>\n",
              "      <th>AUG</th>\n",
              "      <th>SEP</th>\n",
              "      <th>OCT</th>\n",
              "      <th>NOV</th>\n",
              "      <th>DEC</th>\n",
              "      <th>ANNUAL RAINFALL</th>\n",
              "      <th>FLOODS</th>\n",
              "    </tr>\n",
              "  </thead>\n",
              "  <tbody>\n",
              "    <tr>\n",
              "      <th>113</th>\n",
              "      <td>KERALA</td>\n",
              "      <td>2014</td>\n",
              "      <td>4.6</td>\n",
              "      <td>10.3</td>\n",
              "      <td>17.9</td>\n",
              "      <td>95.7</td>\n",
              "      <td>251.0</td>\n",
              "      <td>454.4</td>\n",
              "      <td>677.8</td>\n",
              "      <td>733.9</td>\n",
              "      <td>298.8</td>\n",
              "      <td>355.5</td>\n",
              "      <td>99.5</td>\n",
              "      <td>47.2</td>\n",
              "      <td>3046.4</td>\n",
              "      <td>YES</td>\n",
              "    </tr>\n",
              "    <tr>\n",
              "      <th>114</th>\n",
              "      <td>KERALA</td>\n",
              "      <td>2015</td>\n",
              "      <td>3.1</td>\n",
              "      <td>5.8</td>\n",
              "      <td>50.1</td>\n",
              "      <td>214.1</td>\n",
              "      <td>201.8</td>\n",
              "      <td>563.6</td>\n",
              "      <td>406.0</td>\n",
              "      <td>252.2</td>\n",
              "      <td>292.9</td>\n",
              "      <td>308.1</td>\n",
              "      <td>223.6</td>\n",
              "      <td>79.4</td>\n",
              "      <td>2600.6</td>\n",
              "      <td>NO</td>\n",
              "    </tr>\n",
              "    <tr>\n",
              "      <th>115</th>\n",
              "      <td>KERALA</td>\n",
              "      <td>2016</td>\n",
              "      <td>2.4</td>\n",
              "      <td>3.8</td>\n",
              "      <td>35.9</td>\n",
              "      <td>143.0</td>\n",
              "      <td>186.4</td>\n",
              "      <td>522.2</td>\n",
              "      <td>412.3</td>\n",
              "      <td>325.5</td>\n",
              "      <td>173.2</td>\n",
              "      <td>225.9</td>\n",
              "      <td>125.4</td>\n",
              "      <td>23.6</td>\n",
              "      <td>2176.6</td>\n",
              "      <td>NO</td>\n",
              "    </tr>\n",
              "    <tr>\n",
              "      <th>116</th>\n",
              "      <td>KERALA</td>\n",
              "      <td>2017</td>\n",
              "      <td>1.9</td>\n",
              "      <td>6.8</td>\n",
              "      <td>8.9</td>\n",
              "      <td>43.6</td>\n",
              "      <td>173.5</td>\n",
              "      <td>498.5</td>\n",
              "      <td>319.6</td>\n",
              "      <td>531.8</td>\n",
              "      <td>209.5</td>\n",
              "      <td>192.4</td>\n",
              "      <td>92.5</td>\n",
              "      <td>38.1</td>\n",
              "      <td>2117.1</td>\n",
              "      <td>NO</td>\n",
              "    </tr>\n",
              "    <tr>\n",
              "      <th>117</th>\n",
              "      <td>KERALA</td>\n",
              "      <td>2018</td>\n",
              "      <td>29.1</td>\n",
              "      <td>52.1</td>\n",
              "      <td>48.6</td>\n",
              "      <td>116.4</td>\n",
              "      <td>183.8</td>\n",
              "      <td>625.4</td>\n",
              "      <td>1048.5</td>\n",
              "      <td>1398.9</td>\n",
              "      <td>423.6</td>\n",
              "      <td>356.1</td>\n",
              "      <td>125.4</td>\n",
              "      <td>65.1</td>\n",
              "      <td>4473.0</td>\n",
              "      <td>YES</td>\n",
              "    </tr>\n",
              "  </tbody>\n",
              "</table>\n",
              "</div>"
            ],
            "text/plain": [
              "    SUBDIVISION  YEAR   JAN   FEB  ...    NOV   DEC   ANNUAL RAINFALL  FLOODS\n",
              "113      KERALA  2014   4.6  10.3  ...   99.5  47.2            3046.4     YES\n",
              "114      KERALA  2015   3.1   5.8  ...  223.6  79.4            2600.6      NO\n",
              "115      KERALA  2016   2.4   3.8  ...  125.4  23.6            2176.6      NO\n",
              "116     KERALA   2017   1.9   6.8  ...   92.5  38.1            2117.1      NO\n",
              "117      KERALA  2018  29.1  52.1  ...  125.4  65.1            4473.0     YES\n",
              "\n",
              "[5 rows x 16 columns]"
            ]
          },
          "metadata": {
            "tags": []
          },
          "execution_count": 13
        }
      ]
    },
    {
      "cell_type": "code",
      "metadata": {
        "colab": {
          "base_uri": "https://localhost:8080/"
        },
        "id": "kujNhRBX_OmE",
        "outputId": "87259d74-559f-4fe6-c2bb-9fc1fcb4f8b2"
      },
      "source": [
        "data.isnull().sum()  # cheaking if any colomns is left empty or not.\n"
      ],
      "execution_count": 14,
      "outputs": [
        {
          "output_type": "execute_result",
          "data": {
            "text/plain": [
              "SUBDIVISION         0\n",
              "YEAR                0\n",
              "JAN                 0\n",
              "FEB                 0\n",
              "MAR                 0\n",
              "APR                 0\n",
              "MAY                 0\n",
              "JUN                 0\n",
              "JUL                 0\n",
              "AUG                 0\n",
              "SEP                 0\n",
              "OCT                 0\n",
              "NOV                 0\n",
              "DEC                 0\n",
              " ANNUAL RAINFALL    0\n",
              "FLOODS              0\n",
              "dtype: int64"
            ]
          },
          "metadata": {
            "tags": []
          },
          "execution_count": 14
        }
      ]
    },
    {
      "cell_type": "code",
      "metadata": {
        "colab": {
          "base_uri": "https://localhost:8080/"
        },
        "id": "VvzHDW8C_Qek",
        "outputId": "a409c745-85fa-4670-aee2-a2bdcceead9e"
      },
      "source": [
        "print(data.shape)\n"
      ],
      "execution_count": 15,
      "outputs": [
        {
          "output_type": "stream",
          "text": [
            "(118, 16)\n"
          ],
          "name": "stdout"
        }
      ]
    },
    {
      "cell_type": "code",
      "metadata": {
        "colab": {
          "base_uri": "https://localhost:8080/",
          "height": 321
        },
        "id": "yR7Ae2sj_S-E",
        "outputId": "34e91f55-b19b-4036-b6f4-f33dfd54c12a"
      },
      "source": [
        "data.describe()\n"
      ],
      "execution_count": 16,
      "outputs": [
        {
          "output_type": "execute_result",
          "data": {
            "text/html": [
              "<div>\n",
              "<style scoped>\n",
              "    .dataframe tbody tr th:only-of-type {\n",
              "        vertical-align: middle;\n",
              "    }\n",
              "\n",
              "    .dataframe tbody tr th {\n",
              "        vertical-align: top;\n",
              "    }\n",
              "\n",
              "    .dataframe thead th {\n",
              "        text-align: right;\n",
              "    }\n",
              "</style>\n",
              "<table border=\"1\" class=\"dataframe\">\n",
              "  <thead>\n",
              "    <tr style=\"text-align: right;\">\n",
              "      <th></th>\n",
              "      <th>YEAR</th>\n",
              "      <th>JAN</th>\n",
              "      <th>FEB</th>\n",
              "      <th>MAR</th>\n",
              "      <th>APR</th>\n",
              "      <th>MAY</th>\n",
              "      <th>JUN</th>\n",
              "      <th>JUL</th>\n",
              "      <th>AUG</th>\n",
              "      <th>SEP</th>\n",
              "      <th>OCT</th>\n",
              "      <th>NOV</th>\n",
              "      <th>DEC</th>\n",
              "      <th>ANNUAL RAINFALL</th>\n",
              "    </tr>\n",
              "  </thead>\n",
              "  <tbody>\n",
              "    <tr>\n",
              "      <th>count</th>\n",
              "      <td>118.000000</td>\n",
              "      <td>118.000000</td>\n",
              "      <td>118.000000</td>\n",
              "      <td>118.000000</td>\n",
              "      <td>118.000000</td>\n",
              "      <td>118.000000</td>\n",
              "      <td>118.000000</td>\n",
              "      <td>118.000000</td>\n",
              "      <td>118.000000</td>\n",
              "      <td>118.000000</td>\n",
              "      <td>118.000000</td>\n",
              "      <td>118.000000</td>\n",
              "      <td>118.000000</td>\n",
              "      <td>118.000000</td>\n",
              "    </tr>\n",
              "    <tr>\n",
              "      <th>mean</th>\n",
              "      <td>1959.500000</td>\n",
              "      <td>12.218644</td>\n",
              "      <td>15.633898</td>\n",
              "      <td>36.670339</td>\n",
              "      <td>110.330508</td>\n",
              "      <td>228.644915</td>\n",
              "      <td>651.617797</td>\n",
              "      <td>698.220339</td>\n",
              "      <td>430.369492</td>\n",
              "      <td>246.207627</td>\n",
              "      <td>293.207627</td>\n",
              "      <td>162.311017</td>\n",
              "      <td>40.009322</td>\n",
              "      <td>2925.405085</td>\n",
              "    </tr>\n",
              "    <tr>\n",
              "      <th>std</th>\n",
              "      <td>34.207699</td>\n",
              "      <td>15.473766</td>\n",
              "      <td>16.406290</td>\n",
              "      <td>30.063862</td>\n",
              "      <td>44.633452</td>\n",
              "      <td>147.548778</td>\n",
              "      <td>186.181363</td>\n",
              "      <td>228.988966</td>\n",
              "      <td>181.980463</td>\n",
              "      <td>121.901131</td>\n",
              "      <td>93.705253</td>\n",
              "      <td>83.200485</td>\n",
              "      <td>36.676330</td>\n",
              "      <td>452.169407</td>\n",
              "    </tr>\n",
              "    <tr>\n",
              "      <th>min</th>\n",
              "      <td>1901.000000</td>\n",
              "      <td>0.000000</td>\n",
              "      <td>0.000000</td>\n",
              "      <td>0.100000</td>\n",
              "      <td>13.100000</td>\n",
              "      <td>53.400000</td>\n",
              "      <td>196.800000</td>\n",
              "      <td>167.500000</td>\n",
              "      <td>178.600000</td>\n",
              "      <td>41.300000</td>\n",
              "      <td>68.500000</td>\n",
              "      <td>31.500000</td>\n",
              "      <td>0.100000</td>\n",
              "      <td>2068.800000</td>\n",
              "    </tr>\n",
              "    <tr>\n",
              "      <th>25%</th>\n",
              "      <td>1930.250000</td>\n",
              "      <td>2.175000</td>\n",
              "      <td>4.700000</td>\n",
              "      <td>18.100000</td>\n",
              "      <td>74.350000</td>\n",
              "      <td>125.050000</td>\n",
              "      <td>535.550000</td>\n",
              "      <td>533.200000</td>\n",
              "      <td>316.725000</td>\n",
              "      <td>155.425000</td>\n",
              "      <td>222.125000</td>\n",
              "      <td>93.025000</td>\n",
              "      <td>10.350000</td>\n",
              "      <td>2613.525000</td>\n",
              "    </tr>\n",
              "    <tr>\n",
              "      <th>50%</th>\n",
              "      <td>1959.500000</td>\n",
              "      <td>5.800000</td>\n",
              "      <td>8.350000</td>\n",
              "      <td>28.400000</td>\n",
              "      <td>110.400000</td>\n",
              "      <td>184.600000</td>\n",
              "      <td>625.600000</td>\n",
              "      <td>691.650000</td>\n",
              "      <td>386.250000</td>\n",
              "      <td>223.550000</td>\n",
              "      <td>284.300000</td>\n",
              "      <td>152.450000</td>\n",
              "      <td>31.100000</td>\n",
              "      <td>2934.300000</td>\n",
              "    </tr>\n",
              "    <tr>\n",
              "      <th>75%</th>\n",
              "      <td>1988.750000</td>\n",
              "      <td>18.175000</td>\n",
              "      <td>21.400000</td>\n",
              "      <td>49.825000</td>\n",
              "      <td>136.450000</td>\n",
              "      <td>264.875000</td>\n",
              "      <td>786.975000</td>\n",
              "      <td>832.425000</td>\n",
              "      <td>500.100000</td>\n",
              "      <td>334.500000</td>\n",
              "      <td>355.150000</td>\n",
              "      <td>218.325000</td>\n",
              "      <td>54.025000</td>\n",
              "      <td>3170.400000</td>\n",
              "    </tr>\n",
              "    <tr>\n",
              "      <th>max</th>\n",
              "      <td>2018.000000</td>\n",
              "      <td>83.500000</td>\n",
              "      <td>79.000000</td>\n",
              "      <td>217.200000</td>\n",
              "      <td>238.000000</td>\n",
              "      <td>738.800000</td>\n",
              "      <td>1098.200000</td>\n",
              "      <td>1526.500000</td>\n",
              "      <td>1398.900000</td>\n",
              "      <td>526.700000</td>\n",
              "      <td>567.900000</td>\n",
              "      <td>365.600000</td>\n",
              "      <td>202.300000</td>\n",
              "      <td>4473.000000</td>\n",
              "    </tr>\n",
              "  </tbody>\n",
              "</table>\n",
              "</div>"
            ],
            "text/plain": [
              "              YEAR         JAN  ...         DEC   ANNUAL RAINFALL\n",
              "count   118.000000  118.000000  ...  118.000000        118.000000\n",
              "mean   1959.500000   12.218644  ...   40.009322       2925.405085\n",
              "std      34.207699   15.473766  ...   36.676330        452.169407\n",
              "min    1901.000000    0.000000  ...    0.100000       2068.800000\n",
              "25%    1930.250000    2.175000  ...   10.350000       2613.525000\n",
              "50%    1959.500000    5.800000  ...   31.100000       2934.300000\n",
              "75%    1988.750000   18.175000  ...   54.025000       3170.400000\n",
              "max    2018.000000   83.500000  ...  202.300000       4473.000000\n",
              "\n",
              "[8 rows x 14 columns]"
            ]
          },
          "metadata": {
            "tags": []
          },
          "execution_count": 16
        }
      ]
    },
    {
      "cell_type": "code",
      "metadata": {
        "colab": {
          "base_uri": "https://localhost:8080/"
        },
        "id": "SDBo8cCr_Uqw",
        "outputId": "d74cc607-63f1-4a50-da49-8aa6d448b040"
      },
      "source": [
        "data.info\n"
      ],
      "execution_count": 17,
      "outputs": [
        {
          "output_type": "execute_result",
          "data": {
            "text/plain": [
              "<bound method DataFrame.info of     SUBDIVISION  YEAR   JAN   FEB  ...    NOV    DEC   ANNUAL RAINFALL  FLOODS\n",
              "0        KERALA  1901  28.7  44.7  ...  350.8   48.4            3248.6     YES\n",
              "1        KERALA  1902   6.7   2.6  ...  158.3  121.5            3326.6     YES\n",
              "2        KERALA  1903   3.2  18.6  ...  157.0   59.0            3271.2     YES\n",
              "3        KERALA  1904  23.7   3.0  ...   33.9    3.3            3129.7     YES\n",
              "4        KERALA  1905   1.2  22.3  ...   74.4    0.2            2741.6      NO\n",
              "..          ...   ...   ...   ...  ...    ...    ...               ...     ...\n",
              "113      KERALA  2014   4.6  10.3  ...   99.5   47.2            3046.4     YES\n",
              "114      KERALA  2015   3.1   5.8  ...  223.6   79.4            2600.6      NO\n",
              "115      KERALA  2016   2.4   3.8  ...  125.4   23.6            2176.6      NO\n",
              "116     KERALA   2017   1.9   6.8  ...   92.5   38.1            2117.1      NO\n",
              "117      KERALA  2018  29.1  52.1  ...  125.4   65.1            4473.0     YES\n",
              "\n",
              "[118 rows x 16 columns]>"
            ]
          },
          "metadata": {
            "tags": []
          },
          "execution_count": 17
        }
      ]
    },
    {
      "cell_type": "code",
      "metadata": {
        "colab": {
          "base_uri": "https://localhost:8080/",
          "height": 515
        },
        "id": "RAULJvVm_Y6s",
        "outputId": "fa0d1311-de08-4987-f0ca-ddca5b1531ee"
      },
      "source": [
        "data.cov()\n"
      ],
      "execution_count": 18,
      "outputs": [
        {
          "output_type": "execute_result",
          "data": {
            "text/html": [
              "<div>\n",
              "<style scoped>\n",
              "    .dataframe tbody tr th:only-of-type {\n",
              "        vertical-align: middle;\n",
              "    }\n",
              "\n",
              "    .dataframe tbody tr th {\n",
              "        vertical-align: top;\n",
              "    }\n",
              "\n",
              "    .dataframe thead th {\n",
              "        text-align: right;\n",
              "    }\n",
              "</style>\n",
              "<table border=\"1\" class=\"dataframe\">\n",
              "  <thead>\n",
              "    <tr style=\"text-align: right;\">\n",
              "      <th></th>\n",
              "      <th>YEAR</th>\n",
              "      <th>JAN</th>\n",
              "      <th>FEB</th>\n",
              "      <th>MAR</th>\n",
              "      <th>APR</th>\n",
              "      <th>MAY</th>\n",
              "      <th>JUN</th>\n",
              "      <th>JUL</th>\n",
              "      <th>AUG</th>\n",
              "      <th>SEP</th>\n",
              "      <th>OCT</th>\n",
              "      <th>NOV</th>\n",
              "      <th>DEC</th>\n",
              "      <th>ANNUAL RAINFALL</th>\n",
              "    </tr>\n",
              "  </thead>\n",
              "  <tbody>\n",
              "    <tr>\n",
              "      <th>YEAR</th>\n",
              "      <td>1170.166667</td>\n",
              "      <td>-119.378632</td>\n",
              "      <td>2.176923</td>\n",
              "      <td>-13.207265</td>\n",
              "      <td>132.625641</td>\n",
              "      <td>-301.126068</td>\n",
              "      <td>-1114.149145</td>\n",
              "      <td>-1749.953846</td>\n",
              "      <td>274.983761</td>\n",
              "      <td>448.915812</td>\n",
              "      <td>-96.876496</td>\n",
              "      <td>-370.360256</td>\n",
              "      <td>-155.123504</td>\n",
              "      <td>-3063.344444</td>\n",
              "    </tr>\n",
              "    <tr>\n",
              "      <th>JAN</th>\n",
              "      <td>-119.378632</td>\n",
              "      <td>239.437427</td>\n",
              "      <td>4.979192</td>\n",
              "      <td>36.577053</td>\n",
              "      <td>24.039512</td>\n",
              "      <td>163.062403</td>\n",
              "      <td>545.574281</td>\n",
              "      <td>121.970900</td>\n",
              "      <td>24.434163</td>\n",
              "      <td>-214.094844</td>\n",
              "      <td>-50.812451</td>\n",
              "      <td>-14.205421</td>\n",
              "      <td>-50.968209</td>\n",
              "      <td>830.154092</td>\n",
              "    </tr>\n",
              "    <tr>\n",
              "      <th>FEB</th>\n",
              "      <td>2.176923</td>\n",
              "      <td>4.979192</td>\n",
              "      <td>269.166362</td>\n",
              "      <td>121.027766</td>\n",
              "      <td>90.585966</td>\n",
              "      <td>-202.129655</td>\n",
              "      <td>165.293580</td>\n",
              "      <td>21.748364</td>\n",
              "      <td>69.442838</td>\n",
              "      <td>132.629654</td>\n",
              "      <td>81.684355</td>\n",
              "      <td>-222.332684</td>\n",
              "      <td>-76.434079</td>\n",
              "      <td>455.913330</td>\n",
              "    </tr>\n",
              "    <tr>\n",
              "      <th>MAR</th>\n",
              "      <td>-13.207265</td>\n",
              "      <td>36.577053</td>\n",
              "      <td>121.027766</td>\n",
              "      <td>903.835779</td>\n",
              "      <td>99.315784</td>\n",
              "      <td>-456.721990</td>\n",
              "      <td>106.348567</td>\n",
              "      <td>126.186249</td>\n",
              "      <td>232.033874</td>\n",
              "      <td>527.184758</td>\n",
              "      <td>-64.980285</td>\n",
              "      <td>-81.573089</td>\n",
              "      <td>28.990108</td>\n",
              "      <td>1578.305793</td>\n",
              "    </tr>\n",
              "    <tr>\n",
              "      <th>APR</th>\n",
              "      <td>132.625641</td>\n",
              "      <td>24.039512</td>\n",
              "      <td>90.585966</td>\n",
              "      <td>99.315784</td>\n",
              "      <td>1992.145044</td>\n",
              "      <td>-754.490185</td>\n",
              "      <td>606.540393</td>\n",
              "      <td>153.070058</td>\n",
              "      <td>-388.591540</td>\n",
              "      <td>70.336859</td>\n",
              "      <td>473.330962</td>\n",
              "      <td>82.464276</td>\n",
              "      <td>-180.710372</td>\n",
              "      <td>2267.590185</td>\n",
              "    </tr>\n",
              "    <tr>\n",
              "      <th>MAY</th>\n",
              "      <td>-301.126068</td>\n",
              "      <td>163.062403</td>\n",
              "      <td>-202.129655</td>\n",
              "      <td>-456.721990</td>\n",
              "      <td>-754.490185</td>\n",
              "      <td>21770.641812</td>\n",
              "      <td>33.929279</td>\n",
              "      <td>-1571.703571</td>\n",
              "      <td>-3340.586652</td>\n",
              "      <td>2101.892304</td>\n",
              "      <td>2725.149056</td>\n",
              "      <td>1165.417193</td>\n",
              "      <td>-638.978371</td>\n",
              "      <td>20997.420795</td>\n",
              "    </tr>\n",
              "    <tr>\n",
              "      <th>JUN</th>\n",
              "      <td>-1114.149145</td>\n",
              "      <td>545.574281</td>\n",
              "      <td>165.293580</td>\n",
              "      <td>106.348567</td>\n",
              "      <td>606.540393</td>\n",
              "      <td>33.929279</td>\n",
              "      <td>34663.499937</td>\n",
              "      <td>4047.567071</td>\n",
              "      <td>-492.944239</td>\n",
              "      <td>-1194.576633</td>\n",
              "      <td>20.161145</td>\n",
              "      <td>247.329460</td>\n",
              "      <td>-581.699654</td>\n",
              "      <td>38170.332986</td>\n",
              "    </tr>\n",
              "    <tr>\n",
              "      <th>JUL</th>\n",
              "      <td>-1749.953846</td>\n",
              "      <td>121.970900</td>\n",
              "      <td>21.748364</td>\n",
              "      <td>126.186249</td>\n",
              "      <td>153.070058</td>\n",
              "      <td>-1571.703571</td>\n",
              "      <td>4047.567071</td>\n",
              "      <td>52435.946420</td>\n",
              "      <td>6436.876865</td>\n",
              "      <td>5846.347194</td>\n",
              "      <td>541.214459</td>\n",
              "      <td>-543.479371</td>\n",
              "      <td>-113.988396</td>\n",
              "      <td>67508.201520</td>\n",
              "    </tr>\n",
              "    <tr>\n",
              "      <th>AUG</th>\n",
              "      <td>274.983761</td>\n",
              "      <td>24.434163</td>\n",
              "      <td>69.442838</td>\n",
              "      <td>232.033874</td>\n",
              "      <td>-388.591540</td>\n",
              "      <td>-3340.586652</td>\n",
              "      <td>-492.944239</td>\n",
              "      <td>6436.876865</td>\n",
              "      <td>33116.888805</td>\n",
              "      <td>2178.762799</td>\n",
              "      <td>-3094.959423</td>\n",
              "      <td>-1706.808293</td>\n",
              "      <td>948.365073</td>\n",
              "      <td>33987.052721</td>\n",
              "    </tr>\n",
              "    <tr>\n",
              "      <th>SEP</th>\n",
              "      <td>448.915812</td>\n",
              "      <td>-214.094844</td>\n",
              "      <td>132.629654</td>\n",
              "      <td>527.184758</td>\n",
              "      <td>70.336859</td>\n",
              "      <td>2101.892304</td>\n",
              "      <td>-1194.576633</td>\n",
              "      <td>5846.347194</td>\n",
              "      <td>2178.762799</td>\n",
              "      <td>14859.885839</td>\n",
              "      <td>-369.500828</td>\n",
              "      <td>-280.077350</td>\n",
              "      <td>-49.210243</td>\n",
              "      <td>23610.285602</td>\n",
              "    </tr>\n",
              "    <tr>\n",
              "      <th>OCT</th>\n",
              "      <td>-96.876496</td>\n",
              "      <td>-50.812451</td>\n",
              "      <td>81.684355</td>\n",
              "      <td>-64.980285</td>\n",
              "      <td>473.330962</td>\n",
              "      <td>2725.149056</td>\n",
              "      <td>20.161145</td>\n",
              "      <td>541.214459</td>\n",
              "      <td>-3094.959423</td>\n",
              "      <td>-369.500828</td>\n",
              "      <td>8780.674386</td>\n",
              "      <td>-187.580256</td>\n",
              "      <td>-134.262978</td>\n",
              "      <td>8722.467910</td>\n",
              "    </tr>\n",
              "    <tr>\n",
              "      <th>NOV</th>\n",
              "      <td>-370.360256</td>\n",
              "      <td>-14.205421</td>\n",
              "      <td>-222.332684</td>\n",
              "      <td>-81.573089</td>\n",
              "      <td>82.464276</td>\n",
              "      <td>1165.417193</td>\n",
              "      <td>247.329460</td>\n",
              "      <td>-543.479371</td>\n",
              "      <td>-1706.808293</td>\n",
              "      <td>-280.077350</td>\n",
              "      <td>-187.580256</td>\n",
              "      <td>6922.320647</td>\n",
              "      <td>215.801948</td>\n",
              "      <td>5597.319516</td>\n",
              "    </tr>\n",
              "    <tr>\n",
              "      <th>DEC</th>\n",
              "      <td>-155.123504</td>\n",
              "      <td>-50.968209</td>\n",
              "      <td>-76.434079</td>\n",
              "      <td>28.990108</td>\n",
              "      <td>-180.710372</td>\n",
              "      <td>-638.978371</td>\n",
              "      <td>-581.699654</td>\n",
              "      <td>-113.988396</td>\n",
              "      <td>948.365073</td>\n",
              "      <td>-49.210243</td>\n",
              "      <td>-134.262978</td>\n",
              "      <td>215.801948</td>\n",
              "      <td>1345.153160</td>\n",
              "      <td>712.560721</td>\n",
              "    </tr>\n",
              "    <tr>\n",
              "      <th>ANNUAL RAINFALL</th>\n",
              "      <td>-3063.344444</td>\n",
              "      <td>830.154092</td>\n",
              "      <td>455.913330</td>\n",
              "      <td>1578.305793</td>\n",
              "      <td>2267.590185</td>\n",
              "      <td>20997.420795</td>\n",
              "      <td>38170.332986</td>\n",
              "      <td>67508.201520</td>\n",
              "      <td>33987.052721</td>\n",
              "      <td>23610.285602</td>\n",
              "      <td>8722.467910</td>\n",
              "      <td>5597.319516</td>\n",
              "      <td>712.560721</td>\n",
              "      <td>204457.172453</td>\n",
              "    </tr>\n",
              "  </tbody>\n",
              "</table>\n",
              "</div>"
            ],
            "text/plain": [
              "                         YEAR         JAN  ...          DEC   ANNUAL RAINFALL\n",
              "YEAR              1170.166667 -119.378632  ...  -155.123504      -3063.344444\n",
              "JAN               -119.378632  239.437427  ...   -50.968209        830.154092\n",
              "FEB                  2.176923    4.979192  ...   -76.434079        455.913330\n",
              "MAR                -13.207265   36.577053  ...    28.990108       1578.305793\n",
              "APR                132.625641   24.039512  ...  -180.710372       2267.590185\n",
              "MAY               -301.126068  163.062403  ...  -638.978371      20997.420795\n",
              "JUN              -1114.149145  545.574281  ...  -581.699654      38170.332986\n",
              "JUL              -1749.953846  121.970900  ...  -113.988396      67508.201520\n",
              "AUG                274.983761   24.434163  ...   948.365073      33987.052721\n",
              "SEP                448.915812 -214.094844  ...   -49.210243      23610.285602\n",
              "OCT                -96.876496  -50.812451  ...  -134.262978       8722.467910\n",
              "NOV               -370.360256  -14.205421  ...   215.801948       5597.319516\n",
              "DEC               -155.123504  -50.968209  ...  1345.153160        712.560721\n",
              " ANNUAL RAINFALL -3063.344444  830.154092  ...   712.560721     204457.172453\n",
              "\n",
              "[14 rows x 14 columns]"
            ]
          },
          "metadata": {
            "tags": []
          },
          "execution_count": 18
        }
      ]
    },
    {
      "cell_type": "code",
      "metadata": {
        "colab": {
          "base_uri": "https://localhost:8080/",
          "height": 515
        },
        "id": "iZ1AbI3M_av4",
        "outputId": "09008bc3-a6f2-45eb-f86c-2ff5bd6d37a2"
      },
      "source": [
        "data.corr()\n"
      ],
      "execution_count": 19,
      "outputs": [
        {
          "output_type": "execute_result",
          "data": {
            "text/html": [
              "<div>\n",
              "<style scoped>\n",
              "    .dataframe tbody tr th:only-of-type {\n",
              "        vertical-align: middle;\n",
              "    }\n",
              "\n",
              "    .dataframe tbody tr th {\n",
              "        vertical-align: top;\n",
              "    }\n",
              "\n",
              "    .dataframe thead th {\n",
              "        text-align: right;\n",
              "    }\n",
              "</style>\n",
              "<table border=\"1\" class=\"dataframe\">\n",
              "  <thead>\n",
              "    <tr style=\"text-align: right;\">\n",
              "      <th></th>\n",
              "      <th>YEAR</th>\n",
              "      <th>JAN</th>\n",
              "      <th>FEB</th>\n",
              "      <th>MAR</th>\n",
              "      <th>APR</th>\n",
              "      <th>MAY</th>\n",
              "      <th>JUN</th>\n",
              "      <th>JUL</th>\n",
              "      <th>AUG</th>\n",
              "      <th>SEP</th>\n",
              "      <th>OCT</th>\n",
              "      <th>NOV</th>\n",
              "      <th>DEC</th>\n",
              "      <th>ANNUAL RAINFALL</th>\n",
              "    </tr>\n",
              "  </thead>\n",
              "  <tbody>\n",
              "    <tr>\n",
              "      <th>YEAR</th>\n",
              "      <td>1.000000</td>\n",
              "      <td>-0.225531</td>\n",
              "      <td>0.003879</td>\n",
              "      <td>-0.012842</td>\n",
              "      <td>0.086865</td>\n",
              "      <td>-0.059661</td>\n",
              "      <td>-0.174938</td>\n",
              "      <td>-0.223403</td>\n",
              "      <td>0.044173</td>\n",
              "      <td>0.107655</td>\n",
              "      <td>-0.030223</td>\n",
              "      <td>-0.130129</td>\n",
              "      <td>-0.123643</td>\n",
              "      <td>-0.198048</td>\n",
              "    </tr>\n",
              "    <tr>\n",
              "      <th>JAN</th>\n",
              "      <td>-0.225531</td>\n",
              "      <td>1.000000</td>\n",
              "      <td>0.019613</td>\n",
              "      <td>0.078626</td>\n",
              "      <td>0.034807</td>\n",
              "      <td>0.071420</td>\n",
              "      <td>0.189375</td>\n",
              "      <td>0.034423</td>\n",
              "      <td>0.008677</td>\n",
              "      <td>-0.113502</td>\n",
              "      <td>-0.035044</td>\n",
              "      <td>-0.011034</td>\n",
              "      <td>-0.089809</td>\n",
              "      <td>0.118648</td>\n",
              "    </tr>\n",
              "    <tr>\n",
              "      <th>FEB</th>\n",
              "      <td>0.003879</td>\n",
              "      <td>0.019613</td>\n",
              "      <td>1.000000</td>\n",
              "      <td>0.245375</td>\n",
              "      <td>0.123706</td>\n",
              "      <td>-0.083500</td>\n",
              "      <td>0.054114</td>\n",
              "      <td>0.005789</td>\n",
              "      <td>0.023259</td>\n",
              "      <td>0.066317</td>\n",
              "      <td>0.053133</td>\n",
              "      <td>-0.162880</td>\n",
              "      <td>-0.127025</td>\n",
              "      <td>0.061457</td>\n",
              "    </tr>\n",
              "    <tr>\n",
              "      <th>MAR</th>\n",
              "      <td>-0.012842</td>\n",
              "      <td>0.078626</td>\n",
              "      <td>0.245375</td>\n",
              "      <td>1.000000</td>\n",
              "      <td>0.074014</td>\n",
              "      <td>-0.102961</td>\n",
              "      <td>0.019000</td>\n",
              "      <td>0.018330</td>\n",
              "      <td>0.042411</td>\n",
              "      <td>0.143850</td>\n",
              "      <td>-0.023066</td>\n",
              "      <td>-0.032612</td>\n",
              "      <td>0.026292</td>\n",
              "      <td>0.116103</td>\n",
              "    </tr>\n",
              "    <tr>\n",
              "      <th>APR</th>\n",
              "      <td>0.086865</td>\n",
              "      <td>0.034807</td>\n",
              "      <td>0.123706</td>\n",
              "      <td>0.074014</td>\n",
              "      <td>1.000000</td>\n",
              "      <td>-0.114566</td>\n",
              "      <td>0.072990</td>\n",
              "      <td>0.014977</td>\n",
              "      <td>-0.047842</td>\n",
              "      <td>0.012928</td>\n",
              "      <td>0.113172</td>\n",
              "      <td>0.022206</td>\n",
              "      <td>-0.110392</td>\n",
              "      <td>0.112358</td>\n",
              "    </tr>\n",
              "    <tr>\n",
              "      <th>MAY</th>\n",
              "      <td>-0.059661</td>\n",
              "      <td>0.071420</td>\n",
              "      <td>-0.083500</td>\n",
              "      <td>-0.102961</td>\n",
              "      <td>-0.114566</td>\n",
              "      <td>1.000000</td>\n",
              "      <td>0.001235</td>\n",
              "      <td>-0.046518</td>\n",
              "      <td>-0.124412</td>\n",
              "      <td>0.116860</td>\n",
              "      <td>0.197102</td>\n",
              "      <td>0.094934</td>\n",
              "      <td>-0.118077</td>\n",
              "      <td>0.314723</td>\n",
              "    </tr>\n",
              "    <tr>\n",
              "      <th>JUN</th>\n",
              "      <td>-0.174938</td>\n",
              "      <td>0.189375</td>\n",
              "      <td>0.054114</td>\n",
              "      <td>0.019000</td>\n",
              "      <td>0.072990</td>\n",
              "      <td>0.001235</td>\n",
              "      <td>1.000000</td>\n",
              "      <td>0.094939</td>\n",
              "      <td>-0.014549</td>\n",
              "      <td>-0.052634</td>\n",
              "      <td>0.001156</td>\n",
              "      <td>0.015967</td>\n",
              "      <td>-0.085188</td>\n",
              "      <td>0.453407</td>\n",
              "    </tr>\n",
              "    <tr>\n",
              "      <th>JUL</th>\n",
              "      <td>-0.223403</td>\n",
              "      <td>0.034423</td>\n",
              "      <td>0.005789</td>\n",
              "      <td>0.018330</td>\n",
              "      <td>0.014977</td>\n",
              "      <td>-0.046518</td>\n",
              "      <td>0.094939</td>\n",
              "      <td>1.000000</td>\n",
              "      <td>0.154467</td>\n",
              "      <td>0.209441</td>\n",
              "      <td>0.025223</td>\n",
              "      <td>-0.028526</td>\n",
              "      <td>-0.013573</td>\n",
              "      <td>0.651990</td>\n",
              "    </tr>\n",
              "    <tr>\n",
              "      <th>AUG</th>\n",
              "      <td>0.044173</td>\n",
              "      <td>0.008677</td>\n",
              "      <td>0.023259</td>\n",
              "      <td>0.042411</td>\n",
              "      <td>-0.047842</td>\n",
              "      <td>-0.124412</td>\n",
              "      <td>-0.014549</td>\n",
              "      <td>0.154467</td>\n",
              "      <td>1.000000</td>\n",
              "      <td>0.098215</td>\n",
              "      <td>-0.181496</td>\n",
              "      <td>-0.112729</td>\n",
              "      <td>0.142090</td>\n",
              "      <td>0.413036</td>\n",
              "    </tr>\n",
              "    <tr>\n",
              "      <th>SEP</th>\n",
              "      <td>0.107655</td>\n",
              "      <td>-0.113502</td>\n",
              "      <td>0.066317</td>\n",
              "      <td>0.143850</td>\n",
              "      <td>0.012928</td>\n",
              "      <td>0.116860</td>\n",
              "      <td>-0.052634</td>\n",
              "      <td>0.209441</td>\n",
              "      <td>0.098215</td>\n",
              "      <td>1.000000</td>\n",
              "      <td>-0.032348</td>\n",
              "      <td>-0.027615</td>\n",
              "      <td>-0.011007</td>\n",
              "      <td>0.428344</td>\n",
              "    </tr>\n",
              "    <tr>\n",
              "      <th>OCT</th>\n",
              "      <td>-0.030223</td>\n",
              "      <td>-0.035044</td>\n",
              "      <td>0.053133</td>\n",
              "      <td>-0.023066</td>\n",
              "      <td>0.113172</td>\n",
              "      <td>0.197102</td>\n",
              "      <td>0.001156</td>\n",
              "      <td>0.025223</td>\n",
              "      <td>-0.181496</td>\n",
              "      <td>-0.032348</td>\n",
              "      <td>1.000000</td>\n",
              "      <td>-0.024060</td>\n",
              "      <td>-0.039067</td>\n",
              "      <td>0.205861</td>\n",
              "    </tr>\n",
              "    <tr>\n",
              "      <th>NOV</th>\n",
              "      <td>-0.130129</td>\n",
              "      <td>-0.011034</td>\n",
              "      <td>-0.162880</td>\n",
              "      <td>-0.032612</td>\n",
              "      <td>0.022206</td>\n",
              "      <td>0.094934</td>\n",
              "      <td>0.015967</td>\n",
              "      <td>-0.028526</td>\n",
              "      <td>-0.112729</td>\n",
              "      <td>-0.027615</td>\n",
              "      <td>-0.024060</td>\n",
              "      <td>1.000000</td>\n",
              "      <td>0.070720</td>\n",
              "      <td>0.148783</td>\n",
              "    </tr>\n",
              "    <tr>\n",
              "      <th>DEC</th>\n",
              "      <td>-0.123643</td>\n",
              "      <td>-0.089809</td>\n",
              "      <td>-0.127025</td>\n",
              "      <td>0.026292</td>\n",
              "      <td>-0.110392</td>\n",
              "      <td>-0.118077</td>\n",
              "      <td>-0.085188</td>\n",
              "      <td>-0.013573</td>\n",
              "      <td>0.142090</td>\n",
              "      <td>-0.011007</td>\n",
              "      <td>-0.039067</td>\n",
              "      <td>0.070720</td>\n",
              "      <td>1.000000</td>\n",
              "      <td>0.042967</td>\n",
              "    </tr>\n",
              "    <tr>\n",
              "      <th>ANNUAL RAINFALL</th>\n",
              "      <td>-0.198048</td>\n",
              "      <td>0.118648</td>\n",
              "      <td>0.061457</td>\n",
              "      <td>0.116103</td>\n",
              "      <td>0.112358</td>\n",
              "      <td>0.314723</td>\n",
              "      <td>0.453407</td>\n",
              "      <td>0.651990</td>\n",
              "      <td>0.413036</td>\n",
              "      <td>0.428344</td>\n",
              "      <td>0.205861</td>\n",
              "      <td>0.148783</td>\n",
              "      <td>0.042967</td>\n",
              "      <td>1.000000</td>\n",
              "    </tr>\n",
              "  </tbody>\n",
              "</table>\n",
              "</div>"
            ],
            "text/plain": [
              "                      YEAR       JAN  ...       DEC   ANNUAL RAINFALL\n",
              "YEAR              1.000000 -0.225531  ... -0.123643         -0.198048\n",
              "JAN              -0.225531  1.000000  ... -0.089809          0.118648\n",
              "FEB               0.003879  0.019613  ... -0.127025          0.061457\n",
              "MAR              -0.012842  0.078626  ...  0.026292          0.116103\n",
              "APR               0.086865  0.034807  ... -0.110392          0.112358\n",
              "MAY              -0.059661  0.071420  ... -0.118077          0.314723\n",
              "JUN              -0.174938  0.189375  ... -0.085188          0.453407\n",
              "JUL              -0.223403  0.034423  ... -0.013573          0.651990\n",
              "AUG               0.044173  0.008677  ...  0.142090          0.413036\n",
              "SEP               0.107655 -0.113502  ... -0.011007          0.428344\n",
              "OCT              -0.030223 -0.035044  ... -0.039067          0.205861\n",
              "NOV              -0.130129 -0.011034  ...  0.070720          0.148783\n",
              "DEC              -0.123643 -0.089809  ...  1.000000          0.042967\n",
              " ANNUAL RAINFALL -0.198048  0.118648  ...  0.042967          1.000000\n",
              "\n",
              "[14 rows x 14 columns]"
            ]
          },
          "metadata": {
            "tags": []
          },
          "execution_count": 19
        }
      ]
    },
    {
      "cell_type": "code",
      "metadata": {
        "id": "F63jOXRz_da9"
      },
      "source": [
        "# replacing the yes/no in floods coloumn by 1/0\n",
        "data['FLOODS'].replace(['YES','NO'],[1,0],inplace=True)"
      ],
      "execution_count": 20,
      "outputs": []
    },
    {
      "cell_type": "code",
      "metadata": {
        "colab": {
          "base_uri": "https://localhost:8080/",
          "height": 195
        },
        "id": "JQzAz4oQ_hAs",
        "outputId": "d71381b3-2dfc-4ec3-d41d-82a6a36c6508"
      },
      "source": [
        "\n",
        "#Printing the clean data\n",
        "data.head()"
      ],
      "execution_count": 21,
      "outputs": [
        {
          "output_type": "execute_result",
          "data": {
            "text/html": [
              "<div>\n",
              "<style scoped>\n",
              "    .dataframe tbody tr th:only-of-type {\n",
              "        vertical-align: middle;\n",
              "    }\n",
              "\n",
              "    .dataframe tbody tr th {\n",
              "        vertical-align: top;\n",
              "    }\n",
              "\n",
              "    .dataframe thead th {\n",
              "        text-align: right;\n",
              "    }\n",
              "</style>\n",
              "<table border=\"1\" class=\"dataframe\">\n",
              "  <thead>\n",
              "    <tr style=\"text-align: right;\">\n",
              "      <th></th>\n",
              "      <th>SUBDIVISION</th>\n",
              "      <th>YEAR</th>\n",
              "      <th>JAN</th>\n",
              "      <th>FEB</th>\n",
              "      <th>MAR</th>\n",
              "      <th>APR</th>\n",
              "      <th>MAY</th>\n",
              "      <th>JUN</th>\n",
              "      <th>JUL</th>\n",
              "      <th>AUG</th>\n",
              "      <th>SEP</th>\n",
              "      <th>OCT</th>\n",
              "      <th>NOV</th>\n",
              "      <th>DEC</th>\n",
              "      <th>ANNUAL RAINFALL</th>\n",
              "      <th>FLOODS</th>\n",
              "    </tr>\n",
              "  </thead>\n",
              "  <tbody>\n",
              "    <tr>\n",
              "      <th>0</th>\n",
              "      <td>KERALA</td>\n",
              "      <td>1901</td>\n",
              "      <td>28.7</td>\n",
              "      <td>44.7</td>\n",
              "      <td>51.6</td>\n",
              "      <td>160.0</td>\n",
              "      <td>174.7</td>\n",
              "      <td>824.6</td>\n",
              "      <td>743.0</td>\n",
              "      <td>357.5</td>\n",
              "      <td>197.7</td>\n",
              "      <td>266.9</td>\n",
              "      <td>350.8</td>\n",
              "      <td>48.4</td>\n",
              "      <td>3248.6</td>\n",
              "      <td>1</td>\n",
              "    </tr>\n",
              "    <tr>\n",
              "      <th>1</th>\n",
              "      <td>KERALA</td>\n",
              "      <td>1902</td>\n",
              "      <td>6.7</td>\n",
              "      <td>2.6</td>\n",
              "      <td>57.3</td>\n",
              "      <td>83.9</td>\n",
              "      <td>134.5</td>\n",
              "      <td>390.9</td>\n",
              "      <td>1205.0</td>\n",
              "      <td>315.8</td>\n",
              "      <td>491.6</td>\n",
              "      <td>358.4</td>\n",
              "      <td>158.3</td>\n",
              "      <td>121.5</td>\n",
              "      <td>3326.6</td>\n",
              "      <td>1</td>\n",
              "    </tr>\n",
              "    <tr>\n",
              "      <th>2</th>\n",
              "      <td>KERALA</td>\n",
              "      <td>1903</td>\n",
              "      <td>3.2</td>\n",
              "      <td>18.6</td>\n",
              "      <td>3.1</td>\n",
              "      <td>83.6</td>\n",
              "      <td>249.7</td>\n",
              "      <td>558.6</td>\n",
              "      <td>1022.5</td>\n",
              "      <td>420.2</td>\n",
              "      <td>341.8</td>\n",
              "      <td>354.1</td>\n",
              "      <td>157.0</td>\n",
              "      <td>59.0</td>\n",
              "      <td>3271.2</td>\n",
              "      <td>1</td>\n",
              "    </tr>\n",
              "    <tr>\n",
              "      <th>3</th>\n",
              "      <td>KERALA</td>\n",
              "      <td>1904</td>\n",
              "      <td>23.7</td>\n",
              "      <td>3.0</td>\n",
              "      <td>32.2</td>\n",
              "      <td>71.5</td>\n",
              "      <td>235.7</td>\n",
              "      <td>1098.2</td>\n",
              "      <td>725.5</td>\n",
              "      <td>351.8</td>\n",
              "      <td>222.7</td>\n",
              "      <td>328.1</td>\n",
              "      <td>33.9</td>\n",
              "      <td>3.3</td>\n",
              "      <td>3129.7</td>\n",
              "      <td>1</td>\n",
              "    </tr>\n",
              "    <tr>\n",
              "      <th>4</th>\n",
              "      <td>KERALA</td>\n",
              "      <td>1905</td>\n",
              "      <td>1.2</td>\n",
              "      <td>22.3</td>\n",
              "      <td>9.4</td>\n",
              "      <td>105.9</td>\n",
              "      <td>263.3</td>\n",
              "      <td>850.2</td>\n",
              "      <td>520.5</td>\n",
              "      <td>293.6</td>\n",
              "      <td>217.2</td>\n",
              "      <td>383.5</td>\n",
              "      <td>74.4</td>\n",
              "      <td>0.2</td>\n",
              "      <td>2741.6</td>\n",
              "      <td>0</td>\n",
              "    </tr>\n",
              "  </tbody>\n",
              "</table>\n",
              "</div>"
            ],
            "text/plain": [
              "  SUBDIVISION  YEAR   JAN   FEB  ...    NOV    DEC   ANNUAL RAINFALL  FLOODS\n",
              "0      KERALA  1901  28.7  44.7  ...  350.8   48.4            3248.6       1\n",
              "1      KERALA  1902   6.7   2.6  ...  158.3  121.5            3326.6       1\n",
              "2      KERALA  1903   3.2  18.6  ...  157.0   59.0            3271.2       1\n",
              "3      KERALA  1904  23.7   3.0  ...   33.9    3.3            3129.7       1\n",
              "4      KERALA  1905   1.2  22.3  ...   74.4    0.2            2741.6       0\n",
              "\n",
              "[5 rows x 16 columns]"
            ]
          },
          "metadata": {
            "tags": []
          },
          "execution_count": 21
        }
      ]
    },
    {
      "cell_type": "code",
      "metadata": {
        "colab": {
          "base_uri": "https://localhost:8080/",
          "height": 195
        },
        "id": "ad6Awpfn_jRs",
        "outputId": "454ab986-9796-4ab1-b865-d4e9131d70f1"
      },
      "source": [
        "# Seperating the data which we are gonna use for prediction.\n",
        "x=data.iloc[:,1:14]\n",
        "x.head()"
      ],
      "execution_count": 22,
      "outputs": [
        {
          "output_type": "execute_result",
          "data": {
            "text/html": [
              "<div>\n",
              "<style scoped>\n",
              "    .dataframe tbody tr th:only-of-type {\n",
              "        vertical-align: middle;\n",
              "    }\n",
              "\n",
              "    .dataframe tbody tr th {\n",
              "        vertical-align: top;\n",
              "    }\n",
              "\n",
              "    .dataframe thead th {\n",
              "        text-align: right;\n",
              "    }\n",
              "</style>\n",
              "<table border=\"1\" class=\"dataframe\">\n",
              "  <thead>\n",
              "    <tr style=\"text-align: right;\">\n",
              "      <th></th>\n",
              "      <th>YEAR</th>\n",
              "      <th>JAN</th>\n",
              "      <th>FEB</th>\n",
              "      <th>MAR</th>\n",
              "      <th>APR</th>\n",
              "      <th>MAY</th>\n",
              "      <th>JUN</th>\n",
              "      <th>JUL</th>\n",
              "      <th>AUG</th>\n",
              "      <th>SEP</th>\n",
              "      <th>OCT</th>\n",
              "      <th>NOV</th>\n",
              "      <th>DEC</th>\n",
              "    </tr>\n",
              "  </thead>\n",
              "  <tbody>\n",
              "    <tr>\n",
              "      <th>0</th>\n",
              "      <td>1901</td>\n",
              "      <td>28.7</td>\n",
              "      <td>44.7</td>\n",
              "      <td>51.6</td>\n",
              "      <td>160.0</td>\n",
              "      <td>174.7</td>\n",
              "      <td>824.6</td>\n",
              "      <td>743.0</td>\n",
              "      <td>357.5</td>\n",
              "      <td>197.7</td>\n",
              "      <td>266.9</td>\n",
              "      <td>350.8</td>\n",
              "      <td>48.4</td>\n",
              "    </tr>\n",
              "    <tr>\n",
              "      <th>1</th>\n",
              "      <td>1902</td>\n",
              "      <td>6.7</td>\n",
              "      <td>2.6</td>\n",
              "      <td>57.3</td>\n",
              "      <td>83.9</td>\n",
              "      <td>134.5</td>\n",
              "      <td>390.9</td>\n",
              "      <td>1205.0</td>\n",
              "      <td>315.8</td>\n",
              "      <td>491.6</td>\n",
              "      <td>358.4</td>\n",
              "      <td>158.3</td>\n",
              "      <td>121.5</td>\n",
              "    </tr>\n",
              "    <tr>\n",
              "      <th>2</th>\n",
              "      <td>1903</td>\n",
              "      <td>3.2</td>\n",
              "      <td>18.6</td>\n",
              "      <td>3.1</td>\n",
              "      <td>83.6</td>\n",
              "      <td>249.7</td>\n",
              "      <td>558.6</td>\n",
              "      <td>1022.5</td>\n",
              "      <td>420.2</td>\n",
              "      <td>341.8</td>\n",
              "      <td>354.1</td>\n",
              "      <td>157.0</td>\n",
              "      <td>59.0</td>\n",
              "    </tr>\n",
              "    <tr>\n",
              "      <th>3</th>\n",
              "      <td>1904</td>\n",
              "      <td>23.7</td>\n",
              "      <td>3.0</td>\n",
              "      <td>32.2</td>\n",
              "      <td>71.5</td>\n",
              "      <td>235.7</td>\n",
              "      <td>1098.2</td>\n",
              "      <td>725.5</td>\n",
              "      <td>351.8</td>\n",
              "      <td>222.7</td>\n",
              "      <td>328.1</td>\n",
              "      <td>33.9</td>\n",
              "      <td>3.3</td>\n",
              "    </tr>\n",
              "    <tr>\n",
              "      <th>4</th>\n",
              "      <td>1905</td>\n",
              "      <td>1.2</td>\n",
              "      <td>22.3</td>\n",
              "      <td>9.4</td>\n",
              "      <td>105.9</td>\n",
              "      <td>263.3</td>\n",
              "      <td>850.2</td>\n",
              "      <td>520.5</td>\n",
              "      <td>293.6</td>\n",
              "      <td>217.2</td>\n",
              "      <td>383.5</td>\n",
              "      <td>74.4</td>\n",
              "      <td>0.2</td>\n",
              "    </tr>\n",
              "  </tbody>\n",
              "</table>\n",
              "</div>"
            ],
            "text/plain": [
              "   YEAR   JAN   FEB   MAR    APR  ...    AUG    SEP    OCT    NOV    DEC\n",
              "0  1901  28.7  44.7  51.6  160.0  ...  357.5  197.7  266.9  350.8   48.4\n",
              "1  1902   6.7   2.6  57.3   83.9  ...  315.8  491.6  358.4  158.3  121.5\n",
              "2  1903   3.2  18.6   3.1   83.6  ...  420.2  341.8  354.1  157.0   59.0\n",
              "3  1904  23.7   3.0  32.2   71.5  ...  351.8  222.7  328.1   33.9    3.3\n",
              "4  1905   1.2  22.3   9.4  105.9  ...  293.6  217.2  383.5   74.4    0.2\n",
              "\n",
              "[5 rows x 13 columns]"
            ]
          },
          "metadata": {
            "tags": []
          },
          "execution_count": 22
        }
      ]
    },
    {
      "cell_type": "code",
      "metadata": {
        "colab": {
          "base_uri": "https://localhost:8080/"
        },
        "id": "D-REtPah_mUp",
        "outputId": "09df22e8-8e1c-4f53-b11c-6dc2adc3557f"
      },
      "source": [
        "# Now seperate the flood label from the dataset.\n",
        "y=data.iloc[:,-1]\n",
        "y"
      ],
      "execution_count": 23,
      "outputs": [
        {
          "output_type": "execute_result",
          "data": {
            "text/plain": [
              "0      1\n",
              "1      1\n",
              "2      1\n",
              "3      1\n",
              "4      0\n",
              "      ..\n",
              "113    1\n",
              "114    0\n",
              "115    0\n",
              "116    0\n",
              "117    1\n",
              "Name: FLOODS, Length: 118, dtype: int64"
            ]
          },
          "metadata": {
            "tags": []
          },
          "execution_count": 23
        }
      ]
    },
    {
      "cell_type": "code",
      "metadata": {
        "colab": {
          "base_uri": "https://localhost:8080/",
          "height": 281
        },
        "id": "as0GRdou_pR4",
        "outputId": "36c6d3b5-d9f8-48c8-9dbc-218f521fe83f"
      },
      "source": [
        "import matplotlib.pyplot as plt   \n",
        "# sets the backend of matplotlib to the 'inline' backend. \n",
        "%matplotlib inline                   \n",
        "c = data[['JUN','JUL','AUG','SEP']]\n",
        "c.hist()\n",
        "plt.show()\n",
        "# How the rainfall index vary during rainy season"
      ],
      "execution_count": 24,
      "outputs": [
        {
          "output_type": "display_data",
          "data": {
            "image/png": "[encoded data removed]",
            "text/plain": [
              "<Figure size 432x288 with 4 Axes>"
            ]
          },
          "metadata": {
            "tags": [],
            "needs_background": "light"
          }
        }
      ]
    },
    {
      "cell_type": "code",
      "metadata": {
        "colab": {
          "base_uri": "https://localhost:8080/",
          "height": 467
        },
        "id": "ndLJmL8Y_t8Q",
        "outputId": "335b37e9-e76e-4103-e313-3c5ba42034b5"
      },
      "source": [
        "ax = data[['JAN', 'FEB', 'MAR', 'APR','MAY', 'JUN', 'AUG', 'SEP', 'OCT','NOV','DEC']].mean().plot.bar(width=0.5,edgecolor='k',align='center',linewidth=2,figsize=(14,6))\n",
        "plt.xlabel('Month',fontsize=30)\n",
        "plt.ylabel('Monthly Rainfall',fontsize=20)\n",
        "plt.title('Rainfall in Kerela for all Months',fontsize=25)\n",
        "ax.tick_params(labelsize=20)\n",
        "plt.grid()\n",
        "plt.ioff()"
      ],
      "execution_count": 25,
      "outputs": [
        {
          "output_type": "display_data",
          "data": {
            "image/png": "[encoded data removed]",
            "text/plain": [
              "<Figure size 1008x432 with 1 Axes>"
            ]
          },
          "metadata": {
            "tags": [],
            "needs_background": "light"
          }
        }
      ]
    },
    {
      "cell_type": "code",
      "metadata": {
        "colab": {
          "base_uri": "https://localhost:8080/"
        },
        "id": "Db9nwDVq_zqL",
        "outputId": "45a0c816-1558-4f82-ec8b-bf6dcc75ba63"
      },
      "source": [
        "# Scaling the data between 0 and 1.\n",
        "from sklearn import preprocessing\n",
        "minmax = preprocessing.MinMaxScaler(feature_range=(0,1))\n",
        "minmax.fit(x).transform(x)"
      ],
      "execution_count": 26,
      "outputs": [
        {
          "output_type": "execute_result",
          "data": {
            "text/plain": [
              "array([[0.        , 0.34371257, 0.56582278, ..., 0.39727673, 0.95570189,\n",
              "        0.2388724 ],\n",
              "       [0.00854701, 0.08023952, 0.03291139, ..., 0.5804966 , 0.37952709,\n",
              "        0.60039565],\n",
              "       [0.01709402, 0.03832335, 0.23544304, ..., 0.57188626, 0.37563604,\n",
              "        0.29129575],\n",
              "       ...,\n",
              "       [0.98290598, 0.02874251, 0.04810127, ..., 0.31517821, 0.28105358,\n",
              "        0.11622156],\n",
              "       [0.99145299, 0.02275449, 0.08607595, ..., 0.24809772, 0.18258007,\n",
              "        0.18793274],\n",
              "       [1.        , 0.34850299, 0.65949367, ..., 0.57589107, 0.28105358,\n",
              "        0.3214639 ]])"
            ]
          },
          "metadata": {
            "tags": []
          },
          "execution_count": 26
        }
      ]
    },
    {
      "cell_type": "code",
      "metadata": {
        "colab": {
          "base_uri": "https://localhost:8080/",
          "height": 195
        },
        "id": "18tKfFgE_3W3",
        "outputId": "a06a1524-f4b0-4e13-a8bb-233661d2e21e"
      },
      "source": [
        "#dividing the dataset into training dataset and test dataset. \n",
        "from sklearn import model_selection,neighbors\n",
        "from sklearn.model_selection import train_test_split\n",
        "x_train,x_test,y_train,y_test=train_test_split(x,y,test_size=0.2)\n",
        "x_train.head()"
      ],
      "execution_count": 27,
      "outputs": [
        {
          "output_type": "execute_result",
          "data": {
            "text/html": [
              "<div>\n",
              "<style scoped>\n",
              "    .dataframe tbody tr th:only-of-type {\n",
              "        vertical-align: middle;\n",
              "    }\n",
              "\n",
              "    .dataframe tbody tr th {\n",
              "        vertical-align: top;\n",
              "    }\n",
              "\n",
              "    .dataframe thead th {\n",
              "        text-align: right;\n",
              "    }\n",
              "</style>\n",
              "<table border=\"1\" class=\"dataframe\">\n",
              "  <thead>\n",
              "    <tr style=\"text-align: right;\">\n",
              "      <th></th>\n",
              "      <th>YEAR</th>\n",
              "      <th>JAN</th>\n",
              "      <th>FEB</th>\n",
              "      <th>MAR</th>\n",
              "      <th>APR</th>\n",
              "      <th>MAY</th>\n",
              "      <th>JUN</th>\n",
              "      <th>JUL</th>\n",
              "      <th>AUG</th>\n",
              "      <th>SEP</th>\n",
              "      <th>OCT</th>\n",
              "      <th>NOV</th>\n",
              "      <th>DEC</th>\n",
              "    </tr>\n",
              "  </thead>\n",
              "  <tbody>\n",
              "    <tr>\n",
              "      <th>68</th>\n",
              "      <td>1969</td>\n",
              "      <td>2.7</td>\n",
              "      <td>6.4</td>\n",
              "      <td>19.4</td>\n",
              "      <td>117.2</td>\n",
              "      <td>227.4</td>\n",
              "      <td>550.5</td>\n",
              "      <td>818.8</td>\n",
              "      <td>284.8</td>\n",
              "      <td>216.4</td>\n",
              "      <td>235.6</td>\n",
              "      <td>119.4</td>\n",
              "      <td>66.3</td>\n",
              "    </tr>\n",
              "    <tr>\n",
              "      <th>75</th>\n",
              "      <td>1976</td>\n",
              "      <td>0.1</td>\n",
              "      <td>1.5</td>\n",
              "      <td>21.0</td>\n",
              "      <td>134.5</td>\n",
              "      <td>75.8</td>\n",
              "      <td>196.8</td>\n",
              "      <td>641.5</td>\n",
              "      <td>342.6</td>\n",
              "      <td>116.2</td>\n",
              "      <td>221.3</td>\n",
              "      <td>286.7</td>\n",
              "      <td>30.8</td>\n",
              "    </tr>\n",
              "    <tr>\n",
              "      <th>112</th>\n",
              "      <td>2013</td>\n",
              "      <td>3.9</td>\n",
              "      <td>40.1</td>\n",
              "      <td>49.9</td>\n",
              "      <td>49.3</td>\n",
              "      <td>119.3</td>\n",
              "      <td>1042.7</td>\n",
              "      <td>830.2</td>\n",
              "      <td>369.7</td>\n",
              "      <td>318.6</td>\n",
              "      <td>259.9</td>\n",
              "      <td>154.9</td>\n",
              "      <td>17.0</td>\n",
              "    </tr>\n",
              "    <tr>\n",
              "      <th>50</th>\n",
              "      <td>1951</td>\n",
              "      <td>6.6</td>\n",
              "      <td>6.5</td>\n",
              "      <td>41.6</td>\n",
              "      <td>175.9</td>\n",
              "      <td>148.5</td>\n",
              "      <td>774.1</td>\n",
              "      <td>544.6</td>\n",
              "      <td>190.6</td>\n",
              "      <td>313.8</td>\n",
              "      <td>250.6</td>\n",
              "      <td>229.6</td>\n",
              "      <td>23.2</td>\n",
              "    </tr>\n",
              "    <tr>\n",
              "      <th>98</th>\n",
              "      <td>1999</td>\n",
              "      <td>1.8</td>\n",
              "      <td>23.8</td>\n",
              "      <td>21.4</td>\n",
              "      <td>111.6</td>\n",
              "      <td>453.2</td>\n",
              "      <td>607.3</td>\n",
              "      <td>700.4</td>\n",
              "      <td>266.3</td>\n",
              "      <td>88.0</td>\n",
              "      <td>567.9</td>\n",
              "      <td>68.1</td>\n",
              "      <td>4.9</td>\n",
              "    </tr>\n",
              "  </tbody>\n",
              "</table>\n",
              "</div>"
            ],
            "text/plain": [
              "     YEAR  JAN   FEB   MAR    APR  ...    AUG    SEP    OCT    NOV   DEC\n",
              "68   1969  2.7   6.4  19.4  117.2  ...  284.8  216.4  235.6  119.4  66.3\n",
              "75   1976  0.1   1.5  21.0  134.5  ...  342.6  116.2  221.3  286.7  30.8\n",
              "112  2013  3.9  40.1  49.9   49.3  ...  369.7  318.6  259.9  154.9  17.0\n",
              "50   1951  6.6   6.5  41.6  175.9  ...  190.6  313.8  250.6  229.6  23.2\n",
              "98   1999  1.8  23.8  21.4  111.6  ...  266.3   88.0  567.9   68.1   4.9\n",
              "\n",
              "[5 rows x 13 columns]"
            ]
          },
          "metadata": {
            "tags": []
          },
          "execution_count": 27
        }
      ]
    },
    {
      "cell_type": "code",
      "metadata": {
        "colab": {
          "base_uri": "https://localhost:8080/"
        },
        "id": "8LOVSCve_7Qz",
        "outputId": "a48b0471-4232-4e9c-e207-73080a9d7510"
      },
      "source": [
        "x_train.dtypes\n"
      ],
      "execution_count": 28,
      "outputs": [
        {
          "output_type": "execute_result",
          "data": {
            "text/plain": [
              "YEAR      int64\n",
              "JAN     float64\n",
              "FEB     float64\n",
              "MAR     float64\n",
              "APR     float64\n",
              "MAY     float64\n",
              "JUN     float64\n",
              "JUL     float64\n",
              "AUG     float64\n",
              "SEP     float64\n",
              "OCT     float64\n",
              "NOV     float64\n",
              "DEC     float64\n",
              "dtype: object"
            ]
          },
          "metadata": {
            "tags": []
          },
          "execution_count": 28
        }
      ]
    },
    {
      "cell_type": "code",
      "metadata": {
        "colab": {
          "base_uri": "https://localhost:8080/",
          "height": 195
        },
        "id": "3I3KhRJ7_9v7",
        "outputId": "f9cecdd3-d534-43cd-f697-82b3c49a695e"
      },
      "source": [
        "x_test.head()\n"
      ],
      "execution_count": 29,
      "outputs": [
        {
          "output_type": "execute_result",
          "data": {
            "text/html": [
              "<div>\n",
              "<style scoped>\n",
              "    .dataframe tbody tr th:only-of-type {\n",
              "        vertical-align: middle;\n",
              "    }\n",
              "\n",
              "    .dataframe tbody tr th {\n",
              "        vertical-align: top;\n",
              "    }\n",
              "\n",
              "    .dataframe thead th {\n",
              "        text-align: right;\n",
              "    }\n",
              "</style>\n",
              "<table border=\"1\" class=\"dataframe\">\n",
              "  <thead>\n",
              "    <tr style=\"text-align: right;\">\n",
              "      <th></th>\n",
              "      <th>YEAR</th>\n",
              "      <th>JAN</th>\n",
              "      <th>FEB</th>\n",
              "      <th>MAR</th>\n",
              "      <th>APR</th>\n",
              "      <th>MAY</th>\n",
              "      <th>JUN</th>\n",
              "      <th>JUL</th>\n",
              "      <th>AUG</th>\n",
              "      <th>SEP</th>\n",
              "      <th>OCT</th>\n",
              "      <th>NOV</th>\n",
              "      <th>DEC</th>\n",
              "    </tr>\n",
              "  </thead>\n",
              "  <tbody>\n",
              "    <tr>\n",
              "      <th>107</th>\n",
              "      <td>2008</td>\n",
              "      <td>0.8</td>\n",
              "      <td>30.3</td>\n",
              "      <td>217.2</td>\n",
              "      <td>108.4</td>\n",
              "      <td>81.2</td>\n",
              "      <td>469.9</td>\n",
              "      <td>505.1</td>\n",
              "      <td>349.0</td>\n",
              "      <td>347.0</td>\n",
              "      <td>343.4</td>\n",
              "      <td>55.4</td>\n",
              "      <td>17.0</td>\n",
              "    </tr>\n",
              "    <tr>\n",
              "      <th>111</th>\n",
              "      <td>2012</td>\n",
              "      <td>7.4</td>\n",
              "      <td>11.0</td>\n",
              "      <td>21.0</td>\n",
              "      <td>171.1</td>\n",
              "      <td>95.3</td>\n",
              "      <td>430.3</td>\n",
              "      <td>362.6</td>\n",
              "      <td>501.6</td>\n",
              "      <td>241.1</td>\n",
              "      <td>187.5</td>\n",
              "      <td>112.9</td>\n",
              "      <td>9.4</td>\n",
              "    </tr>\n",
              "    <tr>\n",
              "      <th>46</th>\n",
              "      <td>1947</td>\n",
              "      <td>22.2</td>\n",
              "      <td>27.3</td>\n",
              "      <td>98.0</td>\n",
              "      <td>142.2</td>\n",
              "      <td>85.7</td>\n",
              "      <td>556.1</td>\n",
              "      <td>669.3</td>\n",
              "      <td>739.6</td>\n",
              "      <td>394.5</td>\n",
              "      <td>183.7</td>\n",
              "      <td>32.4</td>\n",
              "      <td>47.0</td>\n",
              "    </tr>\n",
              "    <tr>\n",
              "      <th>116</th>\n",
              "      <td>2017</td>\n",
              "      <td>1.9</td>\n",
              "      <td>6.8</td>\n",
              "      <td>8.9</td>\n",
              "      <td>43.6</td>\n",
              "      <td>173.5</td>\n",
              "      <td>498.5</td>\n",
              "      <td>319.6</td>\n",
              "      <td>531.8</td>\n",
              "      <td>209.5</td>\n",
              "      <td>192.4</td>\n",
              "      <td>92.5</td>\n",
              "      <td>38.1</td>\n",
              "    </tr>\n",
              "    <tr>\n",
              "      <th>73</th>\n",
              "      <td>1974</td>\n",
              "      <td>1.6</td>\n",
              "      <td>5.4</td>\n",
              "      <td>16.0</td>\n",
              "      <td>128.0</td>\n",
              "      <td>221.5</td>\n",
              "      <td>266.9</td>\n",
              "      <td>1004.2</td>\n",
              "      <td>533.6</td>\n",
              "      <td>383.6</td>\n",
              "      <td>142.1</td>\n",
              "      <td>61.0</td>\n",
              "      <td>3.6</td>\n",
              "    </tr>\n",
              "  </tbody>\n",
              "</table>\n",
              "</div>"
            ],
            "text/plain": [
              "     YEAR   JAN   FEB    MAR    APR  ...    AUG    SEP    OCT    NOV   DEC\n",
              "107  2008   0.8  30.3  217.2  108.4  ...  349.0  347.0  343.4   55.4  17.0\n",
              "111  2012   7.4  11.0   21.0  171.1  ...  501.6  241.1  187.5  112.9   9.4\n",
              "46   1947  22.2  27.3   98.0  142.2  ...  739.6  394.5  183.7   32.4  47.0\n",
              "116  2017   1.9   6.8    8.9   43.6  ...  531.8  209.5  192.4   92.5  38.1\n",
              "73   1974   1.6   5.4   16.0  128.0  ...  533.6  383.6  142.1   61.0   3.6\n",
              "\n",
              "[5 rows x 13 columns]"
            ]
          },
          "metadata": {
            "tags": []
          },
          "execution_count": 29
        }
      ]
    },
    {
      "cell_type": "code",
      "metadata": {
        "colab": {
          "base_uri": "https://localhost:8080/"
        },
        "id": "Xqv2i6RPAAbo",
        "outputId": "a82683a0-8fa6-43b3-de94-5e7582e752ae"
      },
      "source": [
        "# type casting.\n",
        "y_train=y_train.astype('int')\n",
        "y_train"
      ],
      "execution_count": 30,
      "outputs": [
        {
          "output_type": "execute_result",
          "data": {
            "text/plain": [
              "68     0\n",
              "75     0\n",
              "112    1\n",
              "50     0\n",
              "98     0\n",
              "      ..\n",
              "35     1\n",
              "93     1\n",
              "33     0\n",
              "0      1\n",
              "104    1\n",
              "Name: FLOODS, Length: 94, dtype: int64"
            ]
          },
          "metadata": {
            "tags": []
          },
          "execution_count": 30
        }
      ]
    },
    {
      "cell_type": "code",
      "metadata": {
        "colab": {
          "base_uri": "https://localhost:8080/"
        },
        "id": "l8qQNHspADSE",
        "outputId": "0569de05-4bfb-4a14-dc05-9196dc2ab14c"
      },
      "source": [
        "y_test=y_test.astype('int')\n",
        "y_test"
      ],
      "execution_count": 31,
      "outputs": [
        {
          "output_type": "execute_result",
          "data": {
            "text/plain": [
              "107    0\n",
              "111    0\n",
              "46     1\n",
              "116    0\n",
              "73     0\n",
              "109    1\n",
              "62     0\n",
              "85     0\n",
              "24     1\n",
              "29     1\n",
              "90     1\n",
              "39     1\n",
              "49     1\n",
              "38     1\n",
              "40     1\n",
              "56     1\n",
              "7      0\n",
              "15     1\n",
              "67     1\n",
              "105    1\n",
              "65     0\n",
              "72     0\n",
              "83     0\n",
              "95     0\n",
              "Name: FLOODS, dtype: int64"
            ]
          },
          "metadata": {
            "tags": []
          },
          "execution_count": 31
        }
      ]
    },
    {
      "cell_type": "code",
      "metadata": {
        "colab": {
          "base_uri": "https://localhost:8080/"
        },
        "id": "3AjMFVIcAFXR",
        "outputId": "112f7331-0524-4b05-e53c-6dc2abe76694"
      },
      "source": [
        "clf=neighbors.KNeighborsClassifier()\n",
        "clf.fit(x_train,y_train)"
      ],
      "execution_count": 32,
      "outputs": [
        {
          "output_type": "execute_result",
          "data": {
            "text/plain": [
              "KNeighborsClassifier(algorithm='auto', leaf_size=30, metric='minkowski',\n",
              "                     metric_params=None, n_jobs=None, n_neighbors=5, p=2,\n",
              "                     weights='uniform')"
            ]
          },
          "metadata": {
            "tags": []
          },
          "execution_count": 32
        }
      ]
    },
    {
      "cell_type": "code",
      "metadata": {
        "colab": {
          "base_uri": "https://localhost:8080/"
        },
        "id": "SkHH4dKHAI4o",
        "outputId": "71242cfd-e89f-478d-b50a-26dee28ef1b7"
      },
      "source": [
        "# Predicted chance of Flood.\n",
        "print(\"Predicted Values for the Floods:\")\n",
        "y_predict=clf.predict(x_test)\n",
        "y_predict"
      ],
      "execution_count": 33,
      "outputs": [
        {
          "output_type": "stream",
          "text": [
            "Predicted Values for the Floods:\n"
          ],
          "name": "stdout"
        },
        {
          "output_type": "execute_result",
          "data": {
            "text/plain": [
              "array([0, 0, 0, 0, 0, 1, 0, 0, 1, 0, 1, 0, 1, 0, 1, 1, 0, 1, 1, 1, 0, 0,\n",
              "       0, 0])"
            ]
          },
          "metadata": {
            "tags": []
          },
          "execution_count": 33
        }
      ]
    },
    {
      "cell_type": "code",
      "metadata": {
        "colab": {
          "base_uri": "https://localhost:8080/"
        },
        "id": "Ljc-jBbOAM08",
        "outputId": "514a09b6-a853-426d-fbeb-c6dd6c4cd6b0"
      },
      "source": [
        "print(\"Actual Values for the Floods:\")\n",
        "print(y_test)"
      ],
      "execution_count": 34,
      "outputs": [
        {
          "output_type": "stream",
          "text": [
            "Actual Values for the Floods:\n",
            "107    0\n",
            "111    0\n",
            "46     1\n",
            "116    0\n",
            "73     0\n",
            "109    1\n",
            "62     0\n",
            "85     0\n",
            "24     1\n",
            "29     1\n",
            "90     1\n",
            "39     1\n",
            "49     1\n",
            "38     1\n",
            "40     1\n",
            "56     1\n",
            "7      0\n",
            "15     1\n",
            "67     1\n",
            "105    1\n",
            "65     0\n",
            "72     0\n",
            "83     0\n",
            "95     0\n",
            "Name: FLOODS, dtype: int64\n"
          ],
          "name": "stdout"
        }
      ]
    },
    {
      "cell_type": "code",
      "metadata": {
        "colab": {
          "base_uri": "https://localhost:8080/"
        },
        "id": "7O-9RnY1AP3M",
        "outputId": "c5804bc4-87ca-4a00-8b5c-ce9e14bffbf1"
      },
      "source": [
        "\n",
        "print(\"List of the Predicted Values:\")\n",
        "print(y_predict)"
      ],
      "execution_count": 35,
      "outputs": [
        {
          "output_type": "stream",
          "text": [
            "List of the Predicted Values:\n",
            "[0 0 0 0 0 1 0 0 1 0 1 0 1 0 1 1 0 1 1 1 0 0 0 0]\n"
          ],
          "name": "stdout"
        }
      ]
    },
    {
      "cell_type": "code",
      "metadata": {
        "id": "McTTzxILATaM"
      },
      "source": [
        "# Scaling the dataset.\n",
        "from sklearn.model_selection import cross_val_score,cross_val_predict\n",
        "x_train_std= minmax.fit_transform(x_train)\n",
        "x_test_std= minmax.fit_transform(x_test)\n",
        "knn_acc=cross_val_score(clf,x_train_std,y_train,cv=3,scoring='accuracy',n_jobs=-1)\n",
        "knn_proba=cross_val_predict(clf,x_train_std,y_train,cv=3,method='predict_proba')"
      ],
      "execution_count": 36,
      "outputs": []
    },
    {
      "cell_type": "code",
      "metadata": {
        "colab": {
          "base_uri": "https://localhost:8080/"
        },
        "id": "rGOYHQWAAXEU",
        "outputId": "f07a616e-f674-43f8-b422-28b0239dce42"
      },
      "source": [
        "knn_acc"
      ],
      "execution_count": 37,
      "outputs": [
        {
          "output_type": "execute_result",
          "data": {
            "text/plain": [
              "array([0.78125   , 0.64516129, 0.70967742])"
            ]
          },
          "metadata": {
            "tags": []
          },
          "execution_count": 37
        }
      ]
    },
    {
      "cell_type": "code",
      "metadata": {
        "colab": {
          "base_uri": "https://localhost:8080/"
        },
        "id": "SML1u0TYAaXC",
        "outputId": "a54d0007-a172-4a18-b8a9-d6c1e752cab9"
      },
      "source": [
        "knn_proba\n"
      ],
      "execution_count": 38,
      "outputs": [
        {
          "output_type": "execute_result",
          "data": {
            "text/plain": [
              "array([[1. , 0. ],\n",
              "       [0.8, 0.2],\n",
              "       [0.4, 0.6],\n",
              "       [0.6, 0.4],\n",
              "       [0.8, 0.2],\n",
              "       [0.4, 0.6],\n",
              "       [0.8, 0.2],\n",
              "       [0.4, 0.6],\n",
              "       [0.8, 0.2],\n",
              "       [0. , 1. ],\n",
              "       [1. , 0. ],\n",
              "       [0.4, 0.6],\n",
              "       [0.6, 0.4],\n",
              "       [0.6, 0.4],\n",
              "       [0.4, 0.6],\n",
              "       [0.4, 0.6],\n",
              "       [0.6, 0.4],\n",
              "       [0. , 1. ],\n",
              "       [1. , 0. ],\n",
              "       [0.4, 0.6],\n",
              "       [0.4, 0.6],\n",
              "       [0.4, 0.6],\n",
              "       [0.8, 0.2],\n",
              "       [0.4, 0.6],\n",
              "       [0.8, 0.2],\n",
              "       [1. , 0. ],\n",
              "       [1. , 0. ],\n",
              "       [0.8, 0.2],\n",
              "       [0.2, 0.8],\n",
              "       [0.8, 0.2],\n",
              "       [0. , 1. ],\n",
              "       [0.2, 0.8],\n",
              "       [0.6, 0.4],\n",
              "       [0.2, 0.8],\n",
              "       [0.4, 0.6],\n",
              "       [0.8, 0.2],\n",
              "       [0.8, 0.2],\n",
              "       [0.2, 0.8],\n",
              "       [0.8, 0.2],\n",
              "       [0.4, 0.6],\n",
              "       [0.8, 0.2],\n",
              "       [0.8, 0.2],\n",
              "       [0.6, 0.4],\n",
              "       [0.6, 0.4],\n",
              "       [1. , 0. ],\n",
              "       [0.6, 0.4],\n",
              "       [0.2, 0.8],\n",
              "       [0.8, 0.2],\n",
              "       [0.6, 0.4],\n",
              "       [0.8, 0.2],\n",
              "       [0.8, 0.2],\n",
              "       [0.4, 0.6],\n",
              "       [0.2, 0.8],\n",
              "       [0.4, 0.6],\n",
              "       [0.6, 0.4],\n",
              "       [0.4, 0.6],\n",
              "       [1. , 0. ],\n",
              "       [0.4, 0.6],\n",
              "       [0.8, 0.2],\n",
              "       [0.2, 0.8],\n",
              "       [0.8, 0.2],\n",
              "       [1. , 0. ],\n",
              "       [0.6, 0.4],\n",
              "       [0.4, 0.6],\n",
              "       [0.6, 0.4],\n",
              "       [0.8, 0.2],\n",
              "       [0.6, 0.4],\n",
              "       [1. , 0. ],\n",
              "       [0.8, 0.2],\n",
              "       [0.8, 0.2],\n",
              "       [0.2, 0.8],\n",
              "       [0. , 1. ],\n",
              "       [0.8, 0.2],\n",
              "       [0.4, 0.6],\n",
              "       [0.4, 0.6],\n",
              "       [0.8, 0.2],\n",
              "       [0.4, 0.6],\n",
              "       [0.4, 0.6],\n",
              "       [1. , 0. ],\n",
              "       [1. , 0. ],\n",
              "       [0.6, 0.4],\n",
              "       [0.8, 0.2],\n",
              "       [0.8, 0.2],\n",
              "       [0.6, 0.4],\n",
              "       [1. , 0. ],\n",
              "       [0.6, 0.4],\n",
              "       [0. , 1. ],\n",
              "       [0.4, 0.6],\n",
              "       [1. , 0. ],\n",
              "       [0.4, 0.6],\n",
              "       [0.8, 0.2],\n",
              "       [0.2, 0.8],\n",
              "       [0.2, 0.8],\n",
              "       [0.8, 0.2]])"
            ]
          },
          "metadata": {
            "tags": []
          },
          "execution_count": 38
        }
      ]
    },
    {
      "cell_type": "code",
      "metadata": {
        "colab": {
          "base_uri": "https://localhost:8080/"
        },
        "id": "PNw0B7HOAgqn",
        "outputId": "7eda13cc-aca9-480b-93dd-cb7c87585cc1"
      },
      "source": [
        "from sklearn.metrics import accuracy_score,recall_score,roc_auc_score,confusion_matrix\n",
        "print(\"\\nAccuracy Score:%f\"%(accuracy_score(y_test,y_predict)*100))\n",
        "print(\"Recall Score:%f\"%(recall_score(y_test,y_predict)*100))\n",
        "print(\"ROC score:%f\"%(roc_auc_score(y_test,y_predict)*100))\n",
        "print(confusion_matrix(y_test,y_predict))"
      ],
      "execution_count": 39,
      "outputs": [
        {
          "output_type": "stream",
          "text": [
            "\n",
            "Accuracy Score:83.333333\n",
            "Recall Score:69.230769\n",
            "ROC score:84.615385\n",
            "[[11  0]\n",
            " [ 4  9]]\n"
          ],
          "name": "stdout"
        }
      ]
    },
    {
      "cell_type": "code",
      "metadata": {
        "id": "pVsEFDdCAli8"
      },
      "source": [
        "#Logistic Regression\n",
        "x_train_std=minmax.fit_transform(x_train)         # fit the values in between 0 and 1.\n",
        "y_train_std=minmax.transform(x_test)\n",
        "\n",
        "from sklearn.model_selection import cross_val_score,cross_val_predict\n",
        "from sklearn.linear_model import LogisticRegression\n",
        "lr=LogisticRegression()\n",
        "lr.fit(x_train,y_train)\n",
        "lr_acc=cross_val_score(lr,x_train_std,y_train,cv=3,scoring='accuracy',n_jobs=-1)\n",
        "lr_proba=cross_val_predict(lr,x_train_std,y_train,cv=3,method='predict_proba')"
      ],
      "execution_count": 41,
      "outputs": []
    },
    {
      "cell_type": "code",
      "metadata": {
        "colab": {
          "base_uri": "https://localhost:8080/"
        },
        "id": "Esq96eavAu5g",
        "outputId": "d08c2b55-d35f-4a40-c6bd-52795fe1e427"
      },
      "source": [
        "lr_acc"
      ],
      "execution_count": 42,
      "outputs": [
        {
          "output_type": "execute_result",
          "data": {
            "text/plain": [
              "array([0.75      , 0.77419355, 0.87096774])"
            ]
          },
          "metadata": {
            "tags": []
          },
          "execution_count": 42
        }
      ]
    },
    {
      "cell_type": "code",
      "metadata": {
        "colab": {
          "base_uri": "https://localhost:8080/"
        },
        "id": "RhZ4q8s7A107",
        "outputId": "1a182646-5bca-4543-d293-ae8f3c74e0b4"
      },
      "source": [
        "lr_proba\n"
      ],
      "execution_count": 43,
      "outputs": [
        {
          "output_type": "execute_result",
          "data": {
            "text/plain": [
              "array([[0.63990608, 0.36009392],\n",
              "       [0.78911011, 0.21088989],\n",
              "       [0.48660749, 0.51339251],\n",
              "       [0.42127158, 0.57872842],\n",
              "       [0.74349067, 0.25650933],\n",
              "       [0.46566581, 0.53433419],\n",
              "       [0.692913  , 0.307087  ],\n",
              "       [0.38909153, 0.61090847],\n",
              "       [0.79434233, 0.20565767],\n",
              "       [0.22931331, 0.77068669],\n",
              "       [0.64632495, 0.35367505],\n",
              "       [0.44254531, 0.55745469],\n",
              "       [0.62965264, 0.37034736],\n",
              "       [0.25974655, 0.74025345],\n",
              "       [0.66558896, 0.33441104],\n",
              "       [0.46936314, 0.53063686],\n",
              "       [0.56371588, 0.43628412],\n",
              "       [0.37939939, 0.62060061],\n",
              "       [0.7784847 , 0.2215153 ],\n",
              "       [0.38592362, 0.61407638],\n",
              "       [0.42846499, 0.57153501],\n",
              "       [0.49288837, 0.50711163],\n",
              "       [0.58063231, 0.41936769],\n",
              "       [0.59484219, 0.40515781],\n",
              "       [0.61320456, 0.38679544],\n",
              "       [0.85451813, 0.14548187],\n",
              "       [0.71399301, 0.28600699],\n",
              "       [0.6994612 , 0.3005388 ],\n",
              "       [0.26108662, 0.73891338],\n",
              "       [0.66911169, 0.33088831],\n",
              "       [0.0965157 , 0.9034843 ],\n",
              "       [0.3361033 , 0.6638967 ],\n",
              "       [0.47582395, 0.52417605],\n",
              "       [0.42885212, 0.57114788],\n",
              "       [0.53975121, 0.46024879],\n",
              "       [0.55714025, 0.44285975],\n",
              "       [0.61892377, 0.38107623],\n",
              "       [0.27820692, 0.72179308],\n",
              "       [0.78214262, 0.21785738],\n",
              "       [0.52065054, 0.47934946],\n",
              "       [0.67266099, 0.32733901],\n",
              "       [0.56662992, 0.43337008],\n",
              "       [0.49353514, 0.50646486],\n",
              "       [0.41193741, 0.58806259],\n",
              "       [0.77680464, 0.22319536],\n",
              "       [0.41191214, 0.58808786],\n",
              "       [0.43365031, 0.56634969],\n",
              "       [0.60776477, 0.39223523],\n",
              "       [0.5185514 , 0.4814486 ],\n",
              "       [0.76501932, 0.23498068],\n",
              "       [0.63018459, 0.36981541],\n",
              "       [0.4223331 , 0.5776669 ],\n",
              "       [0.10359972, 0.89640028],\n",
              "       [0.67789851, 0.32210149],\n",
              "       [0.47343181, 0.52656819],\n",
              "       [0.30488622, 0.69511378],\n",
              "       [0.56260642, 0.43739358],\n",
              "       [0.41506528, 0.58493472],\n",
              "       [0.51507856, 0.48492144],\n",
              "       [0.24365891, 0.75634109],\n",
              "       [0.50067471, 0.49932529],\n",
              "       [0.83289737, 0.16710263],\n",
              "       [0.25345384, 0.74654616],\n",
              "       [0.33704728, 0.66295272],\n",
              "       [0.56142342, 0.43857658],\n",
              "       [0.70172818, 0.29827182],\n",
              "       [0.5829132 , 0.4170868 ],\n",
              "       [0.71486584, 0.28513416],\n",
              "       [0.61823411, 0.38176589],\n",
              "       [0.48844835, 0.51155165],\n",
              "       [0.26506488, 0.73493512],\n",
              "       [0.12432941, 0.87567059],\n",
              "       [0.29949015, 0.70050985],\n",
              "       [0.25312711, 0.74687289],\n",
              "       [0.50277034, 0.49722966],\n",
              "       [0.5446954 , 0.4553046 ],\n",
              "       [0.31044321, 0.68955679],\n",
              "       [0.60345312, 0.39654688],\n",
              "       [0.61654662, 0.38345338],\n",
              "       [0.670437  , 0.329563  ],\n",
              "       [0.40577653, 0.59422347],\n",
              "       [0.55083003, 0.44916997],\n",
              "       [0.59735402, 0.40264598],\n",
              "       [0.4034565 , 0.5965435 ],\n",
              "       [0.73026639, 0.26973361],\n",
              "       [0.57365833, 0.42634167],\n",
              "       [0.34350806, 0.65649194],\n",
              "       [0.35609911, 0.64390089],\n",
              "       [0.77337047, 0.22662953],\n",
              "       [0.42857187, 0.57142813],\n",
              "       [0.416458  , 0.583542  ],\n",
              "       [0.56536399, 0.43463601],\n",
              "       [0.37176318, 0.62823682],\n",
              "       [0.36996361, 0.63003639]])"
            ]
          },
          "metadata": {
            "tags": []
          },
          "execution_count": 43
        }
      ]
    },
    {
      "cell_type": "code",
      "metadata": {
        "colab": {
          "base_uri": "https://localhost:8080/"
        },
        "id": "OyttFntHA3vr",
        "outputId": "6e80f19d-82be-4dee-f389-09efb3e44ee1"
      },
      "source": [
        "y_pred=lr.predict(x_test)\n",
        "y_pred"
      ],
      "execution_count": 44,
      "outputs": [
        {
          "output_type": "execute_result",
          "data": {
            "text/plain": [
              "array([0, 0, 1, 0, 0, 1, 0, 0, 1, 1, 1, 1, 1, 1, 1, 1, 0, 1, 1, 1, 0, 0,\n",
              "       0, 0])"
            ]
          },
          "metadata": {
            "tags": []
          },
          "execution_count": 44
        }
      ]
    },
    {
      "cell_type": "code",
      "metadata": {
        "colab": {
          "base_uri": "https://localhost:8080/"
        },
        "id": "uD-MhBEzA6vg",
        "outputId": "4100df40-9b04-49e2-e065-fe0e2a48b048"
      },
      "source": [
        "print(y_test.values)\n"
      ],
      "execution_count": 45,
      "outputs": [
        {
          "output_type": "stream",
          "text": [
            "[0 0 1 0 0 1 0 0 1 1 1 1 1 1 1 1 0 1 1 1 0 0 0 0]\n"
          ],
          "name": "stdout"
        }
      ]
    },
    {
      "cell_type": "code",
      "metadata": {
        "colab": {
          "base_uri": "https://localhost:8080/"
        },
        "id": "bmt5K9MOA8Vf",
        "outputId": "89b6396b-c1e3-460d-f133-446b28a62cd8"
      },
      "source": [
        "\n",
        "print(\"List of the Predicted Values:\")\n",
        "print(y_pred)"
      ],
      "execution_count": 46,
      "outputs": [
        {
          "output_type": "stream",
          "text": [
            "List of the Predicted Values:\n",
            "[0 0 1 0 0 1 0 0 1 1 1 1 1 1 1 1 0 1 1 1 0 0 0 0]\n"
          ],
          "name": "stdout"
        }
      ]
    },
    {
      "cell_type": "code",
      "metadata": {
        "colab": {
          "base_uri": "https://localhost:8080/"
        },
        "id": "MiBbFD9tA9-E",
        "outputId": "056e76fb-5957-45bd-c02e-27dea9b58399"
      },
      "source": [
        "\n",
        "from sklearn.metrics import accuracy_score,recall_score,roc_auc_score,confusion_matrix\n",
        "print(\"\\naccuracy score:%f\"%(accuracy_score(y_test,y_pred)*100))\n",
        "print(\"recall score:%f\"%(recall_score(y_test,y_pred)*100))\n",
        "print(\"roc score:%f\"%(roc_auc_score(y_test,y_pred)*100))\n",
        "print(confusion_matrix(y_test,y_pred))"
      ],
      "execution_count": 47,
      "outputs": [
        {
          "output_type": "stream",
          "text": [
            "\n",
            "accuracy score:100.000000\n",
            "recall score:100.000000\n",
            "roc score:100.000000\n",
            "[[11  0]\n",
            " [ 0 13]]\n"
          ],
          "name": "stdout"
        }
      ]
    },
    {
      "cell_type": "code",
      "metadata": {
        "id": "Iwwiew_HBAZc"
      },
      "source": [
        "#Support Vector Classification to predict\n",
        "from sklearn.svm import SVC\n",
        "svc=SVC(kernel='rbf',probability=True)\n",
        "svc_classifier=svc.fit(x_train,y_train)\n",
        "svc_acc=cross_val_score(svc_classifier,x_train_std,y_train,cv=3,scoring=\"accuracy\",n_jobs=-1)\n",
        "svc_proba=cross_val_predict(svc_classifier,x_train_std,y_train,cv=3,method='predict_proba')"
      ],
      "execution_count": 48,
      "outputs": []
    },
    {
      "cell_type": "code",
      "metadata": {
        "colab": {
          "base_uri": "https://localhost:8080/"
        },
        "id": "xe00HM97BG8w",
        "outputId": "e7d8a707-5e72-4a73-955e-09c657f25df5"
      },
      "source": [
        "svc_acc\n"
      ],
      "execution_count": 49,
      "outputs": [
        {
          "output_type": "execute_result",
          "data": {
            "text/plain": [
              "array([0.8125    , 0.74193548, 0.80645161])"
            ]
          },
          "metadata": {
            "tags": []
          },
          "execution_count": 49
        }
      ]
    },
    {
      "cell_type": "code",
      "metadata": {
        "colab": {
          "base_uri": "https://localhost:8080/"
        },
        "id": "HFSpedf5BIyH",
        "outputId": "1a39564f-967a-42ee-96a2-405a6ba83313"
      },
      "source": [
        "svc_proba\n"
      ],
      "execution_count": 50,
      "outputs": [
        {
          "output_type": "execute_result",
          "data": {
            "text/plain": [
              "array([[9.45849731e-01, 5.41502687e-02],\n",
              "       [9.81656325e-01, 1.83436752e-02],\n",
              "       [2.15797082e-01, 7.84202918e-01],\n",
              "       [3.64414398e-01, 6.35585602e-01],\n",
              "       [7.51485605e-01, 2.48514395e-01],\n",
              "       [1.67404947e-01, 8.32595053e-01],\n",
              "       [9.58402001e-01, 4.15979991e-02],\n",
              "       [2.01691118e-01, 7.98308882e-01],\n",
              "       [9.59393548e-01, 4.06064521e-02],\n",
              "       [1.88876180e-02, 9.81112382e-01],\n",
              "       [7.91418745e-01, 2.08581255e-01],\n",
              "       [1.96127243e-01, 8.03872757e-01],\n",
              "       [3.39532523e-01, 6.60467477e-01],\n",
              "       [1.27516275e-01, 8.72483725e-01],\n",
              "       [8.39694909e-01, 1.60305091e-01],\n",
              "       [2.01913940e-01, 7.98086060e-01],\n",
              "       [7.25163975e-01, 2.74836025e-01],\n",
              "       [1.16738119e-01, 8.83261881e-01],\n",
              "       [9.80621668e-01, 1.93783322e-02],\n",
              "       [1.90211235e-01, 8.09788765e-01],\n",
              "       [4.50947431e-01, 5.49052569e-01],\n",
              "       [1.98292878e-01, 8.01707122e-01],\n",
              "       [7.51823900e-01, 2.48176100e-01],\n",
              "       [5.80430577e-01, 4.19569423e-01],\n",
              "       [8.62389285e-01, 1.37610715e-01],\n",
              "       [9.21071536e-01, 7.89284637e-02],\n",
              "       [8.90689077e-01, 1.09310923e-01],\n",
              "       [8.91669740e-01, 1.08330260e-01],\n",
              "       [1.13543103e-01, 8.86456897e-01],\n",
              "       [7.53682566e-01, 2.46317434e-01],\n",
              "       [6.98884451e-03, 9.93011155e-01],\n",
              "       [5.60475573e-02, 9.43952443e-01],\n",
              "       [5.95793085e-01, 4.04206915e-01],\n",
              "       [1.66951622e-01, 8.33048378e-01],\n",
              "       [3.61633546e-01, 6.38366454e-01],\n",
              "       [6.36285797e-01, 3.63714203e-01],\n",
              "       [9.25952510e-01, 7.40474904e-02],\n",
              "       [6.05554668e-02, 9.39444533e-01],\n",
              "       [9.72159800e-01, 2.78402001e-02],\n",
              "       [2.59286930e-01, 7.40713070e-01],\n",
              "       [8.32757818e-01, 1.67242182e-01],\n",
              "       [6.19245384e-01, 3.80754616e-01],\n",
              "       [3.65458144e-01, 6.34541856e-01],\n",
              "       [4.25830052e-01, 5.74169948e-01],\n",
              "       [9.83441214e-01, 1.65587856e-02],\n",
              "       [3.80993699e-01, 6.19006301e-01],\n",
              "       [1.93531943e-01, 8.06468057e-01],\n",
              "       [8.92369975e-01, 1.07630025e-01],\n",
              "       [4.49378464e-01, 5.50621536e-01],\n",
              "       [9.79104317e-01, 2.08956828e-02],\n",
              "       [9.05963936e-01, 9.40360636e-02],\n",
              "       [1.53859877e-01, 8.46140123e-01],\n",
              "       [1.26266411e-02, 9.87373359e-01],\n",
              "       [3.50765258e-01, 6.49234742e-01],\n",
              "       [4.54059242e-01, 5.45940758e-01],\n",
              "       [1.03711737e-01, 8.96288263e-01],\n",
              "       [5.47549469e-01, 4.52450531e-01],\n",
              "       [2.26794383e-01, 7.73205617e-01],\n",
              "       [7.07117967e-01, 2.92882033e-01],\n",
              "       [1.34386891e-01, 8.65613109e-01],\n",
              "       [7.63991131e-01, 2.36008869e-01],\n",
              "       [9.98493087e-01, 1.50691268e-03],\n",
              "       [1.12777366e-01, 8.87222634e-01],\n",
              "       [7.87873259e-02, 9.21212674e-01],\n",
              "       [4.55423505e-01, 5.44576495e-01],\n",
              "       [9.66965594e-01, 3.30344057e-02],\n",
              "       [3.89600822e-01, 6.10399178e-01],\n",
              "       [9.76937617e-01, 2.30623831e-02],\n",
              "       [9.09619941e-01, 9.03800591e-02],\n",
              "       [3.81731546e-01, 6.18268454e-01],\n",
              "       [1.60958664e-02, 9.83904134e-01],\n",
              "       [1.49773347e-05, 9.99985023e-01],\n",
              "       [3.34596545e-01, 6.65403455e-01],\n",
              "       [3.98669935e-02, 9.60133006e-01],\n",
              "       [2.48166062e-01, 7.51833938e-01],\n",
              "       [5.32598654e-01, 4.67401346e-01],\n",
              "       [9.74616145e-02, 9.02538385e-01],\n",
              "       [8.00230494e-01, 1.99769506e-01],\n",
              "       [9.52845098e-01, 4.71549023e-02],\n",
              "       [9.37071302e-01, 6.29286979e-02],\n",
              "       [1.72463202e-01, 8.27536798e-01],\n",
              "       [5.05112023e-01, 4.94887977e-01],\n",
              "       [8.26092555e-01, 1.73907445e-01],\n",
              "       [3.82185986e-01, 6.17814014e-01],\n",
              "       [9.84707193e-01, 1.52928066e-02],\n",
              "       [7.00954110e-01, 2.99045890e-01],\n",
              "       [3.15212407e-02, 9.68478759e-01],\n",
              "       [3.47195242e-02, 9.65280476e-01],\n",
              "       [9.84587240e-01, 1.54127600e-02],\n",
              "       [2.00159397e-01, 7.99840603e-01],\n",
              "       [4.82811240e-01, 5.17188760e-01],\n",
              "       [2.26518453e-01, 7.73481547e-01],\n",
              "       [1.10998995e-01, 8.89001005e-01],\n",
              "       [4.61724641e-01, 5.38275359e-01]])"
            ]
          },
          "metadata": {
            "tags": []
          },
          "execution_count": 50
        }
      ]
    },
    {
      "cell_type": "code",
      "metadata": {
        "colab": {
          "base_uri": "https://localhost:8080/"
        },
        "id": "JWaj2oy1BJ3L",
        "outputId": "49dad169-8e6c-4b59-cbed-14f2951f26b0"
      },
      "source": [
        "svc_scores=svc_proba[:,1]\n",
        "svc_scores"
      ],
      "execution_count": 51,
      "outputs": [
        {
          "output_type": "execute_result",
          "data": {
            "text/plain": [
              "array([0.05415027, 0.01834368, 0.78420292, 0.6355856 , 0.24851439,\n",
              "       0.83259505, 0.041598  , 0.79830888, 0.04060645, 0.98111238,\n",
              "       0.20858125, 0.80387276, 0.66046748, 0.87248373, 0.16030509,\n",
              "       0.79808606, 0.27483602, 0.88326188, 0.01937833, 0.80978876,\n",
              "       0.54905257, 0.80170712, 0.2481761 , 0.41956942, 0.13761071,\n",
              "       0.07892846, 0.10931092, 0.10833026, 0.8864569 , 0.24631743,\n",
              "       0.99301116, 0.94395244, 0.40420692, 0.83304838, 0.63836645,\n",
              "       0.3637142 , 0.07404749, 0.93944453, 0.0278402 , 0.74071307,\n",
              "       0.16724218, 0.38075462, 0.63454186, 0.57416995, 0.01655879,\n",
              "       0.6190063 , 0.80646806, 0.10763002, 0.55062154, 0.02089568,\n",
              "       0.09403606, 0.84614012, 0.98737336, 0.64923474, 0.54594076,\n",
              "       0.89628826, 0.45245053, 0.77320562, 0.29288203, 0.86561311,\n",
              "       0.23600887, 0.00150691, 0.88722263, 0.92121267, 0.5445765 ,\n",
              "       0.03303441, 0.61039918, 0.02306238, 0.09038006, 0.61826845,\n",
              "       0.98390413, 0.99998502, 0.66540345, 0.96013301, 0.75183394,\n",
              "       0.46740135, 0.90253839, 0.19976951, 0.0471549 , 0.0629287 ,\n",
              "       0.8275368 , 0.49488798, 0.17390744, 0.61781401, 0.01529281,\n",
              "       0.29904589, 0.96847876, 0.96528048, 0.01541276, 0.7998406 ,\n",
              "       0.51718876, 0.77348155, 0.889001  , 0.53827536])"
            ]
          },
          "metadata": {
            "tags": []
          },
          "execution_count": 51
        }
      ]
    },
    {
      "cell_type": "code",
      "metadata": {
        "colab": {
          "base_uri": "https://localhost:8080/"
        },
        "id": "M4-wXJ9TBMED",
        "outputId": "6f6e68f0-537c-4a1b-97f5-8331dbdce3be"
      },
      "source": [
        "y_pred=svc_classifier.predict(x_test)\n",
        "print(\"Actual Flood Values:\")\n",
        "print(y_test.values)"
      ],
      "execution_count": 52,
      "outputs": [
        {
          "output_type": "stream",
          "text": [
            "Actual Flood Values:\n",
            "[0 0 1 0 0 1 0 0 1 1 1 1 1 1 1 1 0 1 1 1 0 0 0 0]\n"
          ],
          "name": "stdout"
        }
      ]
    },
    {
      "cell_type": "code",
      "metadata": {
        "colab": {
          "base_uri": "https://localhost:8080/"
        },
        "id": "Ff47PU9iBOWH",
        "outputId": "cc006fcc-0116-4ade-d93b-2997fd79befc"
      },
      "source": [
        "print(\"Predicted Flood Values:\")\n",
        "print(y_pred)"
      ],
      "execution_count": 53,
      "outputs": [
        {
          "output_type": "stream",
          "text": [
            "Predicted Flood Values:\n",
            "[0 0 1 0 1 0 0 0 0 0 1 1 1 0 1 1 0 1 1 1 0 0 0 0]\n"
          ],
          "name": "stdout"
        }
      ]
    },
    {
      "cell_type": "code",
      "metadata": {
        "colab": {
          "base_uri": "https://localhost:8080/"
        },
        "id": "dcUBey8sBQnj",
        "outputId": "9ff4bc05-84d0-4845-b504-ec7e653be4bb"
      },
      "source": [
        "from sklearn.metrics import accuracy_score,recall_score,roc_auc_score,confusion_matrix\n",
        "print(\"\\naccuracy score:%f\"%(accuracy_score(y_test,y_pred)*100))\n",
        "print(\"recall score:%f\"%(recall_score(y_test,y_pred)*100))\n",
        "print(\"roc score:%f\"%(roc_auc_score(y_test,y_pred)*100))\n",
        "print(confusion_matrix(y_test,y_pred))"
      ],
      "execution_count": 54,
      "outputs": [
        {
          "output_type": "stream",
          "text": [
            "\n",
            "accuracy score:79.166667\n",
            "recall score:69.230769\n",
            "roc score:80.069930\n",
            "[[10  1]\n",
            " [ 4  9]]\n"
          ],
          "name": "stdout"
        }
      ]
    },
    {
      "cell_type": "code",
      "metadata": {
        "colab": {
          "base_uri": "https://localhost:8080/"
        },
        "id": "fHgYpi8UBTpg",
        "outputId": "08add38c-f7de-479a-852f-59c7fa369d39"
      },
      "source": [
        "# Decision Tree Classification to Predict\n",
        "from sklearn.tree import DecisionTreeClassifier\n",
        "dtc_clf=DecisionTreeClassifier()\n",
        "dtc_clf.fit(x_train,y_train)\n",
        "dtc_clf_acc=cross_val_score(dtc_clf,x_train_std,y_train,cv=3,scoring=\"accuracy\",n_jobs=-1)\n",
        "dtc_clf_acc\n"
      ],
      "execution_count": 55,
      "outputs": [
        {
          "output_type": "execute_result",
          "data": {
            "text/plain": [
              "array([0.625     , 0.61290323, 0.74193548])"
            ]
          },
          "metadata": {
            "tags": []
          },
          "execution_count": 55
        }
      ]
    },
    {
      "cell_type": "code",
      "metadata": {
        "colab": {
          "base_uri": "https://localhost:8080/"
        },
        "id": "fEgebRoWBZzH",
        "outputId": "a0cc8692-c5d1-477b-c1ab-25697130c907"
      },
      "source": [
        "print(\"Predicted Values:\")\n",
        "y_pred=dtc_clf.predict(x_test)\n",
        "y_pred"
      ],
      "execution_count": 56,
      "outputs": [
        {
          "output_type": "stream",
          "text": [
            "Predicted Values:\n"
          ],
          "name": "stdout"
        },
        {
          "output_type": "execute_result",
          "data": {
            "text/plain": [
              "array([0, 0, 0, 0, 1, 1, 0, 0, 0, 0, 1, 0, 0, 1, 0, 1, 0, 1, 1, 0, 0, 0,\n",
              "       1, 1])"
            ]
          },
          "metadata": {
            "tags": []
          },
          "execution_count": 56
        }
      ]
    },
    {
      "cell_type": "code",
      "metadata": {
        "colab": {
          "base_uri": "https://localhost:8080/"
        },
        "id": "JOfX2G2WBbV3",
        "outputId": "7b67e279-08c6-42bd-9c96-ee1fae8263e2"
      },
      "source": [
        "print(\"Actual Values:\")\n",
        "print(y_test.values)"
      ],
      "execution_count": 57,
      "outputs": [
        {
          "output_type": "stream",
          "text": [
            "Actual Values:\n",
            "[0 0 1 0 0 1 0 0 1 1 1 1 1 1 1 1 0 1 1 1 0 0 0 0]\n"
          ],
          "name": "stdout"
        }
      ]
    },
    {
      "cell_type": "code",
      "metadata": {
        "colab": {
          "base_uri": "https://localhost:8080/"
        },
        "id": "1ejywn6WBdus",
        "outputId": "4d651761-87d6-4f23-b11a-00dff61c226e"
      },
      "source": [
        "from sklearn.metrics import accuracy_score,recall_score,roc_auc_score,confusion_matrix\n",
        "print(\"\\naccuracy score:%f\"%(accuracy_score(y_test,y_pred)*100))\n",
        "print(\"recall score:%f\"%(recall_score(y_test,y_pred)*100))\n",
        "print(\"roc score:%f\"%(roc_auc_score(y_test,y_pred)*100))\n",
        "print(confusion_matrix(y_test,y_pred))"
      ],
      "execution_count": 58,
      "outputs": [
        {
          "output_type": "stream",
          "text": [
            "\n",
            "accuracy score:58.333333\n",
            "recall score:46.153846\n",
            "roc score:59.440559\n",
            "[[8 3]\n",
            " [7 6]]\n"
          ],
          "name": "stdout"
        }
      ]
    },
    {
      "cell_type": "code",
      "metadata": {
        "colab": {
          "base_uri": "https://localhost:8080/"
        },
        "id": "c7gxZp3wBf4A",
        "outputId": "41ed1ec1-a884-4dc7-dfb7-8d710752d8d7"
      },
      "source": [
        "# Random Forest Classifier to predict\n",
        "from sklearn.ensemble import RandomForestClassifier\n",
        "rmf=RandomForestClassifier(max_depth=3,random_state=0)\n",
        "rmf_clf=rmf.fit(x_train,y_train)\n",
        "rmf_clf\n"
      ],
      "execution_count": 59,
      "outputs": [
        {
          "output_type": "execute_result",
          "data": {
            "text/plain": [
              "RandomForestClassifier(bootstrap=True, ccp_alpha=0.0, class_weight=None,\n",
              "                       criterion='gini', max_depth=3, max_features='auto',\n",
              "                       max_leaf_nodes=None, max_samples=None,\n",
              "                       min_impurity_decrease=0.0, min_impurity_split=None,\n",
              "                       min_samples_leaf=1, min_samples_split=2,\n",
              "                       min_weight_fraction_leaf=0.0, n_estimators=100,\n",
              "                       n_jobs=None, oob_score=False, random_state=0, verbose=0,\n",
              "                       warm_start=False)"
            ]
          },
          "metadata": {
            "tags": []
          },
          "execution_count": 59
        }
      ]
    },
    {
      "cell_type": "code",
      "metadata": {
        "id": "bz4Fua4SBlWU"
      },
      "source": [
        "rmf_clf_acc=cross_val_score(rmf_clf,x_train_std,y_train,cv=3,scoring=\"accuracy\",n_jobs=-1)\n",
        "rmf_proba=cross_val_predict(rmf_clf,x_train_std,y_train,cv=3,method='predict_proba')"
      ],
      "execution_count": 60,
      "outputs": []
    },
    {
      "cell_type": "code",
      "metadata": {
        "colab": {
          "base_uri": "https://localhost:8080/"
        },
        "id": "qGz6sBtlBofg",
        "outputId": "bc326d26-aae3-4ffb-d8c9-65e8ae60fb23"
      },
      "source": [
        "rmf_clf_acc\n"
      ],
      "execution_count": 61,
      "outputs": [
        {
          "output_type": "execute_result",
          "data": {
            "text/plain": [
              "array([0.78125   , 0.74193548, 0.83870968])"
            ]
          },
          "metadata": {
            "tags": []
          },
          "execution_count": 61
        }
      ]
    },
    {
      "cell_type": "code",
      "metadata": {
        "colab": {
          "base_uri": "https://localhost:8080/"
        },
        "id": "t0mTrClRBqAM",
        "outputId": "b7a34007-7f65-4884-c799-b9e2f171bf00"
      },
      "source": [
        "rmf_proba\n"
      ],
      "execution_count": 62,
      "outputs": [
        {
          "output_type": "execute_result",
          "data": {
            "text/plain": [
              "array([[0.5908773 , 0.4091227 ],\n",
              "       [0.69616748, 0.30383252],\n",
              "       [0.42068249, 0.57931751],\n",
              "       [0.4644331 , 0.5355669 ],\n",
              "       [0.62019508, 0.37980492],\n",
              "       [0.51357693, 0.48642307],\n",
              "       [0.5613458 , 0.4386542 ],\n",
              "       [0.36297146, 0.63702854],\n",
              "       [0.79957655, 0.20042345],\n",
              "       [0.28387813, 0.71612187],\n",
              "       [0.78973955, 0.21026045],\n",
              "       [0.41206013, 0.58793987],\n",
              "       [0.45273853, 0.54726147],\n",
              "       [0.45117125, 0.54882875],\n",
              "       [0.5849504 , 0.4150496 ],\n",
              "       [0.49608198, 0.50391802],\n",
              "       [0.518896  , 0.481104  ],\n",
              "       [0.25796498, 0.74203502],\n",
              "       [0.69332163, 0.30667837],\n",
              "       [0.54956563, 0.45043437],\n",
              "       [0.44776783, 0.55223217],\n",
              "       [0.59437879, 0.40562121],\n",
              "       [0.60841475, 0.39158525],\n",
              "       [0.4518778 , 0.5481222 ],\n",
              "       [0.5616876 , 0.4383124 ],\n",
              "       [0.82585913, 0.17414087],\n",
              "       [0.62920946, 0.37079054],\n",
              "       [0.76498587, 0.23501413],\n",
              "       [0.42946831, 0.57053169],\n",
              "       [0.5338104 , 0.4661896 ],\n",
              "       [0.17901685, 0.82098315],\n",
              "       [0.60049961, 0.39950039],\n",
              "       [0.59364992, 0.40635008],\n",
              "       [0.45621819, 0.54378181],\n",
              "       [0.41910431, 0.58089569],\n",
              "       [0.5227048 , 0.4772952 ],\n",
              "       [0.56449823, 0.43550177],\n",
              "       [0.27672763, 0.72327237],\n",
              "       [0.76528903, 0.23471097],\n",
              "       [0.37469543, 0.62530457],\n",
              "       [0.72324943, 0.27675057],\n",
              "       [0.59971869, 0.40028131],\n",
              "       [0.43973111, 0.56026889],\n",
              "       [0.43819409, 0.56180591],\n",
              "       [0.68396223, 0.31603777],\n",
              "       [0.53332967, 0.46667033],\n",
              "       [0.428099  , 0.571901  ],\n",
              "       [0.54131873, 0.45868127],\n",
              "       [0.57555711, 0.42444289],\n",
              "       [0.72617339, 0.27382661],\n",
              "       [0.60170533, 0.39829467],\n",
              "       [0.3645503 , 0.6354497 ],\n",
              "       [0.19714146, 0.80285854],\n",
              "       [0.73166456, 0.26833544],\n",
              "       [0.56250619, 0.43749381],\n",
              "       [0.32749898, 0.67250102],\n",
              "       [0.7088372 , 0.2911628 ],\n",
              "       [0.39687359, 0.60312641],\n",
              "       [0.51174655, 0.48825345],\n",
              "       [0.43426284, 0.56573716],\n",
              "       [0.444381  , 0.555619  ],\n",
              "       [0.83406886, 0.16593114],\n",
              "       [0.25127987, 0.74872013],\n",
              "       [0.29697325, 0.70302675],\n",
              "       [0.50169493, 0.49830507],\n",
              "       [0.74395957, 0.25604043],\n",
              "       [0.54565185, 0.45434815],\n",
              "       [0.77453143, 0.22546857],\n",
              "       [0.58468695, 0.41531305],\n",
              "       [0.51470609, 0.48529391],\n",
              "       [0.2521566 , 0.7478434 ],\n",
              "       [0.15706633, 0.84293367],\n",
              "       [0.50479609, 0.49520391],\n",
              "       [0.27473615, 0.72526385],\n",
              "       [0.4943009 , 0.5056991 ],\n",
              "       [0.66318981, 0.33681019],\n",
              "       [0.4005066 , 0.5994934 ],\n",
              "       [0.52442028, 0.47557972],\n",
              "       [0.58398937, 0.41601063],\n",
              "       [0.84305608, 0.15694392],\n",
              "       [0.43356595, 0.56643405],\n",
              "       [0.44177413, 0.55822587],\n",
              "       [0.57763698, 0.42236302],\n",
              "       [0.41411732, 0.58588268],\n",
              "       [0.73908205, 0.26091795],\n",
              "       [0.51893131, 0.48106869],\n",
              "       [0.36994633, 0.63005367],\n",
              "       [0.34234506, 0.65765494],\n",
              "       [0.71119229, 0.28880771],\n",
              "       [0.5807597 , 0.4192403 ],\n",
              "       [0.24085986, 0.75914014],\n",
              "       [0.51357108, 0.48642892],\n",
              "       [0.2440343 , 0.7559657 ],\n",
              "       [0.30686669, 0.69313331]])"
            ]
          },
          "metadata": {
            "tags": []
          },
          "execution_count": 62
        }
      ]
    },
    {
      "cell_type": "code",
      "metadata": {
        "colab": {
          "base_uri": "https://localhost:8080/"
        },
        "id": "jXGsAH7XBrT_",
        "outputId": "a061367e-d972-478c-b8d0-849cf8538e71"
      },
      "source": [
        "from sklearn.metrics import accuracy_score,recall_score,roc_auc_score,confusion_matrix\n",
        "print(\"\\naccuracy score:%f\"%(accuracy_score(y_test,y_pred)*100))\n",
        "print(\"recall score:%f\"%(recall_score(y_test,y_pred)*100))\n",
        "print(\"roc score:%f\"%(roc_auc_score(y_test,y_pred)*100))\n",
        "print(confusion_matrix(y_test,y_pred))"
      ],
      "execution_count": 63,
      "outputs": [
        {
          "output_type": "stream",
          "text": [
            "\n",
            "accuracy score:58.333333\n",
            "recall score:46.153846\n",
            "roc score:59.440559\n",
            "[[8 3]\n",
            " [7 6]]\n"
          ],
          "name": "stdout"
        }
      ]
    },
    {
      "cell_type": "code",
      "metadata": {
        "colab": {
          "base_uri": "https://localhost:8080/",
          "height": 195
        },
        "id": "ru9DD_MIBt-U",
        "outputId": "3571979a-dc94-4872-b923-10568f4b9c1e"
      },
      "source": [
        "# Comparing all the prediction models\n",
        "models = []\n",
        "from sklearn.neighbors import KNeighborsClassifier\n",
        "from sklearn.svm import SVC\n",
        "from sklearn.linear_model import LogisticRegression\n",
        "from sklearn.tree import DecisionTreeClassifier\n",
        "from sklearn.naive_bayes import GaussianNB\n",
        "from sklearn.ensemble import RandomForestClassifier\n",
        "from sklearn.ensemble import GradientBoostingClassifier\n",
        "models.append(('KNN', KNeighborsClassifier()))\n",
        "models.append(('LR', LogisticRegression()))\n",
        "models.append(('SVC', SVC()))\n",
        "models.append(('DT', DecisionTreeClassifier()))\n",
        "models.append(('RF', RandomForestClassifier()))\n",
        "\n",
        "names = []\n",
        "scores = []\n",
        "for name, model in models:\n",
        "    model.fit(x_train, y_train)\n",
        "    y_pred = model.predict(x_test)\n",
        "    scores.append(accuracy_score(y_test, y_pred))\n",
        "    names.append(name)\n",
        "tr_split = pd.DataFrame({'Name': names, 'Score': scores})\n",
        "tr_split"
      ],
      "execution_count": 64,
      "outputs": [
        {
          "output_type": "execute_result",
          "data": {
            "text/html": [
              "<div>\n",
              "<style scoped>\n",
              "    .dataframe tbody tr th:only-of-type {\n",
              "        vertical-align: middle;\n",
              "    }\n",
              "\n",
              "    .dataframe tbody tr th {\n",
              "        vertical-align: top;\n",
              "    }\n",
              "\n",
              "    .dataframe thead th {\n",
              "        text-align: right;\n",
              "    }\n",
              "</style>\n",
              "<table border=\"1\" class=\"dataframe\">\n",
              "  <thead>\n",
              "    <tr style=\"text-align: right;\">\n",
              "      <th></th>\n",
              "      <th>Name</th>\n",
              "      <th>Score</th>\n",
              "    </tr>\n",
              "  </thead>\n",
              "  <tbody>\n",
              "    <tr>\n",
              "      <th>0</th>\n",
              "      <td>KNN</td>\n",
              "      <td>0.833333</td>\n",
              "    </tr>\n",
              "    <tr>\n",
              "      <th>1</th>\n",
              "      <td>LR</td>\n",
              "      <td>1.000000</td>\n",
              "    </tr>\n",
              "    <tr>\n",
              "      <th>2</th>\n",
              "      <td>SVC</td>\n",
              "      <td>0.791667</td>\n",
              "    </tr>\n",
              "    <tr>\n",
              "      <th>3</th>\n",
              "      <td>DT</td>\n",
              "      <td>0.500000</td>\n",
              "    </tr>\n",
              "    <tr>\n",
              "      <th>4</th>\n",
              "      <td>RF</td>\n",
              "      <td>0.708333</td>\n",
              "    </tr>\n",
              "  </tbody>\n",
              "</table>\n",
              "</div>"
            ],
            "text/plain": [
              "  Name     Score\n",
              "0  KNN  0.833333\n",
              "1   LR  1.000000\n",
              "2  SVC  0.791667\n",
              "3   DT  0.500000\n",
              "4   RF  0.708333"
            ]
          },
          "metadata": {
            "tags": []
          },
          "execution_count": 64
        }
      ]
    },
    {
      "cell_type": "code",
      "metadata": {
        "colab": {
          "base_uri": "https://localhost:8080/",
          "height": 279
        },
        "id": "bbNpaJVNBzZM",
        "outputId": "001da659-8de9-4ae6-bb45-5e0708b0f749"
      },
      "source": [
        "import seaborn as sns\n",
        "axis = sns.barplot(x = 'Name', y = 'Score', data =tr_split )\n",
        "axis.set(xlabel='Classifier Models', ylabel='Accuracy of the Model')\n",
        "for p in axis.patches:\n",
        "    height = p.get_height()\n",
        "    axis.text(p.get_x() + p.get_width()/2, height + 0.01, '{:1.4f}'.format(height), ha=\"center\") \n",
        "    \n",
        "plt.show()"
      ],
      "execution_count": 65,
      "outputs": [
        {
          "output_type": "display_data",
          "data": {
            "image/png": "[encoded data removed]",
            "text/plain": [
              "<Figure size 432x288 with 1 Axes>"
            ]
          },
          "metadata": {
            "tags": [],
            "needs_background": "light"
          }
        }
      ]
    },
    {
      "cell_type": "code",
      "metadata": {
        "colab": {
          "base_uri": "https://localhost:8080/"
        },
        "id": "cB4WBfzwB163",
        "outputId": "303afa89-57d4-4465-b5a8-178e250c4c5e"
      },
      "source": [
        "tr_split['Score'].max()\n"
      ],
      "execution_count": 66,
      "outputs": [
        {
          "output_type": "execute_result",
          "data": {
            "text/plain": [
              "1.0"
            ]
          },
          "metadata": {
            "tags": []
          },
          "execution_count": 66
        }
      ]
    },
    {
      "cell_type": "code",
      "metadata": {
        "id": "FQs_uCetB5xj"
      },
      "source": [
        ""
      ],
      "execution_count": null,
      "outputs": []
    }
  ]
}